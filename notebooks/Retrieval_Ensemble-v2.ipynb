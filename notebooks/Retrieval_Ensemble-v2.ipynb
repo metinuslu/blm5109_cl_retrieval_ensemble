{
 "cells": [
  {
   "cell_type": "markdown",
   "id": "3d63f8d7-8cc9-4473-88dd-fc3b0e10ec5c",
   "metadata": {
    "id": "3d63f8d7-8cc9-4473-88dd-fc3b0e10ec5c"
   },
   "source": [
    "## Turkish Instructions Retrieval Emsemble"
   ]
  },
  {
   "cell_type": "code",
   "execution_count": 1,
   "id": "0df1fad9-d938-4371-a57e-3f4c1cb085c3",
   "metadata": {},
   "outputs": [],
   "source": [
    "# !pip install datasets"
   ]
  },
  {
   "cell_type": "markdown",
   "id": "41f29147-546d-4c44-ab4e-f30aee32138f",
   "metadata": {
    "id": "41f29147-546d-4c44-ab4e-f30aee32138f"
   },
   "source": [
    "### Import Libraries"
   ]
  },
  {
   "cell_type": "code",
   "execution_count": 2,
   "id": "81b4059f-f0d9-4d6b-9b20-5a3a26f51932",
   "metadata": {
    "executionInfo": {
     "elapsed": 2272,
     "status": "ok",
     "timestamp": 1734167916798,
     "user": {
      "displayName": "Ahmed Ugur",
      "userId": "07278114889288036484"
     },
     "user_tz": -180
    },
    "id": "81b4059f-f0d9-4d6b-9b20-5a3a26f51932"
   },
   "outputs": [],
   "source": [
    "import sys\n",
    "import os\n",
    "import pickle\n",
    "\n",
    "import pandas as pd\n",
    "import numpy as np\n",
    "from sklearn.metrics.pairwise import cosine_similarity\n",
    "\n",
    "import matplotlib.pyplot as plt"
   ]
  },
  {
   "cell_type": "markdown",
   "id": "c810a5ef-9d42-4fe2-b082-3d70134d265a",
   "metadata": {
    "id": "c810a5ef-9d42-4fe2-b082-3d70134d265a"
   },
   "source": [
    "#### Set Path and Constant Values"
   ]
  },
  {
   "cell_type": "code",
   "execution_count": 3,
   "id": "o2TPPI2rUlM0",
   "metadata": {
    "executionInfo": {
     "elapsed": 900,
     "status": "ok",
     "timestamp": 1734167910799,
     "user": {
      "displayName": "Ahmed Ugur",
      "userId": "07278114889288036484"
     },
     "user_tz": -180
    },
    "id": "o2TPPI2rUlM0"
   },
   "outputs": [],
   "source": [
    "# Set Constants\n",
    "\n",
    "# If use Google Colab\n",
    "use_colab = False\n",
    "if use_colab:\n",
    "    from google.colab import drive\n",
    "    drive.mount('/content/drive')\n",
    "    # ROOT_PATH = r\"G:\\Drive'ım\\Colab Notebooks\\HW3\"\n",
    "    ROOT_PATH = \"/content/drive/MyDrive/Colab Notebooks/HW3\"\n",
    "else:\n",
    "    ROOT_PATH = os.getcwd()\n",
    "\n",
    "CACHE_PATH = os.path.join(ROOT_PATH, 'cache')\n",
    "DATA_PATH = os.path.join(ROOT_PATH, 'data')\n",
    "RAW_DATA_PATH = os.path.join(DATA_PATH, 'raw')\n",
    "EMBEDDING_DATA_PATH = os.path.join(DATA_PATH, 'embedding')\n",
    "\n",
    "# Create Folders\n",
    "os.makedirs(RAW_DATA_PATH, exist_ok=True)\n",
    "os.makedirs(EMBEDDING_DATA_PATH, exist_ok=True)\n",
    "os.makedirs(CACHE_PATH, exist_ok=True)"
   ]
  },
  {
   "cell_type": "markdown",
   "id": "yhqNIr2xPPlf",
   "metadata": {
    "id": "yhqNIr2xPPlf"
   },
   "source": [
    "### Embedding Models"
   ]
  },
  {
   "cell_type": "code",
   "execution_count": 4,
   "id": "pJmtzDOMPS2e",
   "metadata": {
    "executionInfo": {
     "elapsed": 5,
     "status": "ok",
     "timestamp": 1734167918238,
     "user": {
      "displayName": "Ahmed Ugur",
      "userId": "07278114889288036484"
     },
     "user_tz": -180
    },
    "id": "pJmtzDOMPS2e"
   },
   "outputs": [],
   "source": [
    "# Model embedding dosya isimleri\n",
    "model_files = [\n",
    "    \"sentence-transformers__all-MiniLM-L12-v2\",\n",
    "    \"jinaai__jina-embeddings-v3\",\n",
    "    \"intfloat__multilingual-e5-large-instruct\",\n",
    "    \"BAAI__bge-m3\",\n",
    "    \"ytu-ce-cosmos__turkish-colbert\",\n",
    "    \"thenlper__gte-large\"\n",
    "]"
   ]
  },
  {
   "cell_type": "code",
   "execution_count": 5,
   "id": "vMM9wcs-BpaQ",
   "metadata": {
    "colab": {
     "base_uri": "https://localhost:8080/"
    },
    "executionInfo": {
     "elapsed": 20179,
     "status": "ok",
     "timestamp": 1734167984487,
     "user": {
      "displayName": "Ahmed Ugur",
      "userId": "07278114889288036484"
     },
     "user_tz": -180
    },
    "id": "vMM9wcs-BpaQ",
    "outputId": "1998c1eb-9e34-447a-e33d-366c79b95890"
   },
   "outputs": [
    {
     "name": "stdout",
     "output_type": "stream",
     "text": [
      "Model Name \t\t\t\t\t Top-1 Accuracy \t\t Top-5 Accuracy\n",
      "sentence-transformers__all-MiniLM-L12-v2           0.2865                         0.4025                        \n",
      "jinaai__jina-embeddings-v3                         0.8495                         0.9235                        \n",
      "intfloat__multilingual-e5-large-instruct           0.6705                         0.8075                        \n",
      "BAAI__bge-m3                                       0.7600                         0.8575                        \n",
      "ytu-ce-cosmos__turkish-colbert                     0.3470                         0.5005                        \n",
      "thenlper__gte-large                                0.3855                         0.5285                        \n"
     ]
    }
   ],
   "source": [
    "# Her modelin Top-1 ve Top-5 performanslarını saklamak için\n",
    "model_results = {}\n",
    "\n",
    "print(f\"Model Name \\t\\t\\t\\t\\t Top-1 Accuracy \\t\\t Top-5 Accuracy\")\n",
    "# Her model için işlemleri gerçekleştirelim\n",
    "for model_name in model_files:\n",
    "    # print(f\"\\nTop-1 ve Top-5 hesaplanıyor: {model_name}\")\n",
    "\n",
    "    # Sorular ve cevap embedding dosyalarını oku\n",
    "    question_file = os.path.join(EMBEDDING_DATA_PATH, f\"question_{model_name}_embeddings.csv.gz\")\n",
    "    answer_file = os.path.join(EMBEDDING_DATA_PATH, f\"answer_{model_name}_embeddings.csv.gz\")\n",
    "    df_questions = pd.read_csv(question_file, compression='gzip')\n",
    "    df_answers = pd.read_csv(answer_file, compression='gzip')\n",
    "\n",
    "    # Embedding matrislerini al\n",
    "    question_embeddings = df_questions.iloc[:, 1:].values  # İlk sütun (soru) metin olduğu için çıkartıyoruz\n",
    "    answer_embeddings = df_answers.iloc[:, 1:].values # İlk sütun (cevap) metin olduğu için çıkartıyoruz\n",
    "\n",
    "    # Cosine similarity hesapla\n",
    "    similarity_matrix = cosine_similarity(question_embeddings, answer_embeddings)\n",
    "\n",
    "    # Top-1 ve Top-5 doğruluğunu hesaplama\n",
    "    top1_correct = 0\n",
    "    top5_correct = 0\n",
    "\n",
    "    for idx, row in enumerate(similarity_matrix):\n",
    "        # Benzerlik sıralamasını al\n",
    "        sorted_indices = np.argsort(row)[::-1]  # Büyükten küçüğe sıralama\n",
    "        correct_answer_idx = idx  # Her sorunun doğru cevabı aynı indeksde yer alıyor\n",
    "\n",
    "        # Top-1 doğruluğu kontrol et\n",
    "        if correct_answer_idx == sorted_indices[0]:\n",
    "            top1_correct += 1\n",
    "\n",
    "        # Top-5 doğruluğu kontrol et\n",
    "        if correct_answer_idx in sorted_indices[:5]:\n",
    "            top5_correct += 1\n",
    "\n",
    "    # Doğruluk oranlarını hesapla\n",
    "    top1_accuracy = top1_correct / len(df_questions)\n",
    "    top5_accuracy = top5_correct / len(df_questions)\n",
    "\n",
    "    # Sonuçları kaydet\n",
    "    model_results[model_name] = {\n",
    "        \"Top-1 Accuracy\": top1_accuracy,\n",
    "        \"Top-5 Accuracy\": top5_accuracy\n",
    "    }\n",
    "    # print(f\"{model_name} - Top-1 Accuracy: {top1_accuracy:.4f}, Top-5 Accuracy: {top5_accuracy:.4f}\")\n",
    "    print(f\"{model_name:<50} {top1_accuracy:<30.4f} {top5_accuracy:<30.4f}\")"
   ]
  },
  {
   "cell_type": "code",
   "execution_count": 6,
   "id": "igOqKowvBpWi",
   "metadata": {
    "colab": {
     "base_uri": "https://localhost:8080/",
     "height": 746
    },
    "executionInfo": {
     "elapsed": 508,
     "status": "ok",
     "timestamp": 1734167999709,
     "user": {
      "displayName": "Ahmed Ugur",
      "userId": "07278114889288036484"
     },
     "user_tz": -180
    },
    "id": "igOqKowvBpWi",
    "outputId": "84a9b139-d964-40d7-cd65-3f01e3ed3c55"
   },
   "outputs": [
    {
     "name": "stdout",
     "output_type": "stream",
     "text": [
      "Model Performans Sonuçları:\n",
      "       Model  Top-1 Accuracy  Top-5 Accuracy\n",
      "0     MiniLM          0.2865          0.4025\n",
      "1       Jina          0.8495          0.9235\n",
      "2   E5-Large          0.6705          0.8075\n",
      "3     BGE-M3          0.7600          0.8575\n",
      "4    ColBERT          0.3470          0.5005\n",
      "5  GTE Large          0.3855          0.5285\n"
     ]
    },
    {
     "data": {
      "image/png": "[encoded data removed]",
      "text/plain": [
       "<Figure size 1000x600 with 1 Axes>"
      ]
     },
     "metadata": {},
     "output_type": "display_data"
    }
   ],
   "source": [
    "# Model isimlerini kısalt\n",
    "model_name_mapping = {\n",
    "    \"sentence-transformers__all-MiniLM-L12-v2\": \"MiniLM\",\n",
    "    \"jinaai__jina-embeddings-v3\": \"Jina\",\n",
    "    \"intfloat__multilingual-e5-large-instruct\": \"E5-Large\",\n",
    "    \"BAAI__bge-m3\": \"BGE-M3\",\n",
    "    \"ytu-ce-cosmos__turkish-colbert\": \"ColBERT\",\n",
    "    \"thenlper__gte-large\": \"GTE Large\"\n",
    "}\n",
    "\n",
    "# Sonuçları tabloya dönüştür\n",
    "results_df = pd.DataFrame(model_results).T  # Transpose yaparak modelleri satır haline getir\n",
    "results_df.reset_index(inplace=True)\n",
    "results_df.rename(columns={\"index\": \"Model\"}, inplace=True)\n",
    "\n",
    "# Model isimlerini kısalt\n",
    "results_df['Model'] = results_df['Model'].map(model_name_mapping)\n",
    "\n",
    "# Tabloyu görüntüle\n",
    "print(\"Model Performans Sonuçları:\")\n",
    "print(results_df)\n",
    "\n",
    "# Bar Grafik Çizimi\n",
    "ax = results_df.plot(\n",
    "    x=\"Model\",\n",
    "    y=[\"Top-1 Accuracy\", \"Top-5 Accuracy\"],\n",
    "    kind=\"bar\",\n",
    "    figsize=(10, 6),\n",
    "    legend=True\n",
    ")\n",
    "\n",
    "# Başlık ve Etiketler\n",
    "plt.title(\"Model Performansları\")\n",
    "plt.ylabel(\"Accuracy\")\n",
    "plt.xticks(rotation=45)\n",
    "plt.yticks(np.arange(0.0, 1.1, 0.1))\n",
    "\n",
    "# Barların üzerinde değerleri ekle\n",
    "for container in ax.containers:\n",
    "    for bar in container:\n",
    "        height = bar.get_height()\n",
    "        ax.text(\n",
    "            bar.get_x() + bar.get_width() / 2,\n",
    "            height + 0.02,\n",
    "            f\"{height:.2f}\",\n",
    "            ha='center',\n",
    "            va='bottom',\n",
    "            fontsize=9\n",
    "        )\n",
    "\n",
    "# Grafik göster\n",
    "plt.tight_layout()\n",
    "plt.show()"
   ]
  },
  {
   "cell_type": "code",
   "execution_count": 7,
   "id": "Q3XcswCoGRjn",
   "metadata": {
    "executionInfo": {
     "elapsed": 1970,
     "status": "ok",
     "timestamp": 1734168012252,
     "user": {
      "displayName": "Ahmed Ugur",
      "userId": "07278114889288036484"
     },
     "user_tz": -180
    },
    "id": "Q3XcswCoGRjn"
   },
   "outputs": [],
   "source": [
    "df_sample = pd.read_csv(os.path.join(RAW_DATA_PATH, \"sampled_turkish_instructions.csv\"))"
   ]
  },
  {
   "cell_type": "code",
   "execution_count": 8,
   "id": "DOTuTsFNBpTe",
   "metadata": {
    "colab": {
     "base_uri": "https://localhost:8080/"
    },
    "executionInfo": {
     "elapsed": 6429,
     "status": "ok",
     "timestamp": 1734168031180,
     "user": {
      "displayName": "Ahmed Ugur",
      "userId": "07278114889288036484"
     },
     "user_tz": -180
    },
    "id": "DOTuTsFNBpTe",
    "outputId": "b6f8d117-fca3-445b-ad30-2ad57f2dda69"
   },
   "outputs": [
    {
     "name": "stdout",
     "output_type": "stream",
     "text": [
      "Örnek Soru:  Belirli bir konu hakkında bir makale yazın. Konu: Zaman Yönetimi\n",
      "Gerçek Cevap: Zaman yönetimi, hayatta başarılı olmak için sahip olunması gereken önemli bir beceridir. Gününüzden en iyi şekilde yararlanabilmeniz için görevlere öncelik vermenizi ve zamanınızı en iyi şekilde değerlendirmenizi sağlar. Etkili zaman yönetimine sahip olmak aynı zamanda odaklanmanıza ve doğru yolda kalmanıza yardımcı olur ve ertelemeyi önler. Zamanınızı etkili bir şekilde yönetmenin bir yolu, bir program oluşturmak ve ona bağlı kalmaktır. Günün belirli saatlerini belirli etkinliklere ayırmanız ve bu saatlere saygı duymanız önemlidir. Örneğin spor yapmak istiyorsanız her gün aynı saatte bir saat ayırın ve o randevuya mutlaka uyun. Görevleriniz için ulaşılabilir hedefler ve zaman çizelgesi belirlediğinizden de emin olmalısınız. Bunu yaparak, daha büyük görevleri yönetilebilir parçalara ayırabilir ve odaklanmanızı ve motive olmanızı sağlayacak somut hedeflere ve teslim tarihlerine sahip olabilirsiniz. Zaman yönetimini iyileştirmenin bir başka yolu da düzenli kalmak ve bir \"yapılacaklar\" listesi oluşturmaktır. Yapılacaklar listesi, önemli görevleri takip etmenize ve en önemlilerine öncelik vermenize yardımcı olacaktır. Ayrıca, görevleri unutma olasılığını azaltır ve tamamlamanız gereken görevleri hatırlatır. Son olarak, dikkat dağıtıcı unsurları yönetmek, etkili zaman yönetimi için çok önemlidir. Verimli kalmak için, gecikmelere neden olabileceğinden ve üretkenliği engelleyebileceğinden, dikkat dağıtıcı unsurları sınırlamak önemlidir. Düzenli kalmak ve mola vermek bunu önlemeye yardımcı olabilir. Genel olarak, zaman yönetimi hayatta başarılı olmak için sahip olunması gereken çok önemli bir beceridir. Programlar oluşturarak, ulaşılabilir hedefler belirleyerek, düzenli kalarak ve dikkat dağıtıcı unsurları sınırlayarak, kişi zamanını etkili bir şekilde yönetebilir ve daha fazlasını başarabilir.\n",
      "\n",
      "Model: sentence-transformers__all-MiniLM-L12-v2\n",
      "Top-5 Cevap Adayları:\n",
      "  1. [0.7902]  Makaleleri bulmak ve yönetmek için kullanılan bir kütüphane yazılımı EndNote'tur.\n",
      "  2. [0.7861]  Öğretmen köpek hakkında bir makale yazdı.\n",
      "  3. [0.7718]  Belirli bir durumdaki kişi muhtemelen bir kaygı bozukluğu yaşıyor.\n",
      "  4. [0.6929] Yapay zeka, bir makinenin akıllı davranışı taklit etme yeteneğidir. <b>Genellikle yinelenen görevleri otomatikleştirmek ve karmaşık kararlar almak için kullanılır.</b>\n",
      "  5. [0.6924]  Yarın üretken olabilmem için dinlenmeye ve şarj olmaya biraz zaman ayırıyorum.\n",
      "\n",
      "Top-1 Cevap: [0.7902]  Makaleleri bulmak ve yönetmek için kullanılan bir kütüphane yazılımı EndNote'tur.\n",
      "\n",
      "----------------------------------------\n",
      "Model: jinaai__jina-embeddings-v3\n",
      "Top-5 Cevap Adayları:\n",
      "  1. [0.7149] Zaman yönetimi, hayatta başarılı olmak için sahip olunması gereken önemli bir beceridir. Gününüzden en iyi şekilde yararlanabilmeniz için görevlere öncelik vermenizi ve zamanınızı en iyi şekilde değerlendirmenizi sağlar. Etkili zaman yönetimine sahip olmak aynı zamanda odaklanmanıza ve doğru yolda kalmanıza yardımcı olur ve ertelemeyi önler. Zamanınızı etkili bir şekilde yönetmenin bir yolu, bir program oluşturmak ve ona bağlı kalmaktır. Günün belirli saatlerini belirli etkinliklere ayırmanız ve bu saatlere saygı duymanız önemlidir. Örneğin spor yapmak istiyorsanız her gün aynı saatte bir saat ayırın ve o randevuya mutlaka uyun. Görevleriniz için ulaşılabilir hedefler ve zaman çizelgesi belirlediğinizden de emin olmalısınız. Bunu yaparak, daha büyük görevleri yönetilebilir parçalara ayırabilir ve odaklanmanızı ve motive olmanızı sağlayacak somut hedeflere ve teslim tarihlerine sahip olabilirsiniz. Zaman yönetimini iyileştirmenin bir başka yolu da düzenli kalmak ve bir \"yapılacaklar\" listesi oluşturmaktır. Yapılacaklar listesi, önemli görevleri takip etmenize ve en önemlilerine öncelik vermenize yardımcı olacaktır. Ayrıca, görevleri unutma olasılığını azaltır ve tamamlamanız gereken görevleri hatırlatır. Son olarak, dikkat dağıtıcı unsurları yönetmek, etkili zaman yönetimi için çok önemlidir. Verimli kalmak için, gecikmelere neden olabileceğinden ve üretkenliği engelleyebileceğinden, dikkat dağıtıcı unsurları sınırlamak önemlidir. Düzenli kalmak ve mola vermek bunu önlemeye yardımcı olabilir. Genel olarak, zaman yönetimi hayatta başarılı olmak için sahip olunması gereken çok önemli bir beceridir. Programlar oluşturarak, ulaşılabilir hedefler belirleyerek, düzenli kalarak ve dikkat dağıtıcı unsurları sınırlayarak, kişi zamanını etkili bir şekilde yönetebilir ve daha fazlasını başarabilir.\n",
      "  2. [0.4552]  Zamanlar zor olabilir, ancak iyi seçilmiş teknikler yardımcı olur.\n",
      "  3. [0.4308]  Bir algoritmanın zaman karmaşıklığını, kodu inceleyerek ve girdinin boyutuna göre her ifadenin aldığı süreyi belirleyerek tahmin edebiliriz. Daha sonra bu bilgiyi, girdinin boyutuyla birlikte algoritma tarafından geçen sürenin nasıl arttığının bir ölçüsünü belirlemek için kullanabiliriz.\n",
      "  4. [0.4120] Kısıtlı sürede bir projeyi tamamlama sorununu çözmek için düşünülebilecek üç çözüm vardır. İlk çözüm, zamanı dikkatli bir şekilde planlamak ve önceliklendirmek. Projeyi önceden planlayarak ve hangi görevlerin en büyük önceliğe sahip olduğunu ve önce tamamlanması gerektiğini anlayarak, proje daha verimli ve hızlı bir şekilde tamamlanabilir. Bu, önemsiz veya alakasız görevlerde zamanın boşa harcanmamasını sağlamaya yardımcı olacaktır. İkinci çözüm, görevleri devretmek. Projenin türüne ve mevcut ekip üyelerinin sayısına bağlı olarak, projeyi tamamlamak için gereken bazı görevleri devretmek mümkün olabilir. Bu, tüm ekibin becerilerini kullanırken herhangi bir kişinin üzerindeki yükü azaltacaktır. Üçüncü çözüm, görevlerin nasıl tamamlanacağı konusunda daha verimli ve yaratıcı olmaktır. Örneğin, görevleri hızlı bir şekilde tamamlamak için teknolojiden yararlanmanın kısayollarını veya yeni yollarını aramak veya alışılmışın dışında düşünmek ve sorunlara yaratıcı çözümler bulmak. Yaratıcı olmak ve projeye yaklaşmanın yeni yollarını aramak, projeyi son teslim tarihinden önce bitirmeye yardımcı olabilir.\n",
      "  5. [0.4112] \"Vakit nakittir\" atasözü, kişinin zamanının değerli bir varlık olduğunu ve içsel bir ekonomik değeri olduğu için akıllıca harcanması gerektiğini ima eder. Zamanı boşa harcamak, para harcamak ve diğer ekonomik konularda israf etmekle aynı olduğundan, insanların zamanlarını verimli ve verimli kullanmaları gerektiğini öne sürer.\n",
      "\n",
      "Top-1 Cevap: [0.7149] Zaman yönetimi, hayatta başarılı olmak için sahip olunması gereken önemli bir beceridir. Gününüzden en iyi şekilde yararlanabilmeniz için görevlere öncelik vermenizi ve zamanınızı en iyi şekilde değerlendirmenizi sağlar. Etkili zaman yönetimine sahip olmak aynı zamanda odaklanmanıza ve doğru yolda kalmanıza yardımcı olur ve ertelemeyi önler. Zamanınızı etkili bir şekilde yönetmenin bir yolu, bir program oluşturmak ve ona bağlı kalmaktır. Günün belirli saatlerini belirli etkinliklere ayırmanız ve bu saatlere saygı duymanız önemlidir. Örneğin spor yapmak istiyorsanız her gün aynı saatte bir saat ayırın ve o randevuya mutlaka uyun. Görevleriniz için ulaşılabilir hedefler ve zaman çizelgesi belirlediğinizden de emin olmalısınız. Bunu yaparak, daha büyük görevleri yönetilebilir parçalara ayırabilir ve odaklanmanızı ve motive olmanızı sağlayacak somut hedeflere ve teslim tarihlerine sahip olabilirsiniz. Zaman yönetimini iyileştirmenin bir başka yolu da düzenli kalmak ve bir \"yapılacaklar\" listesi oluşturmaktır. Yapılacaklar listesi, önemli görevleri takip etmenize ve en önemlilerine öncelik vermenize yardımcı olacaktır. Ayrıca, görevleri unutma olasılığını azaltır ve tamamlamanız gereken görevleri hatırlatır. Son olarak, dikkat dağıtıcı unsurları yönetmek, etkili zaman yönetimi için çok önemlidir. Verimli kalmak için, gecikmelere neden olabileceğinden ve üretkenliği engelleyebileceğinden, dikkat dağıtıcı unsurları sınırlamak önemlidir. Düzenli kalmak ve mola vermek bunu önlemeye yardımcı olabilir. Genel olarak, zaman yönetimi hayatta başarılı olmak için sahip olunması gereken çok önemli bir beceridir. Programlar oluşturarak, ulaşılabilir hedefler belirleyerek, düzenli kalarak ve dikkat dağıtıcı unsurları sınırlayarak, kişi zamanını etkili bir şekilde yönetebilir ve daha fazlasını başarabilir.\n",
      "\n",
      "----------------------------------------\n",
      "Model: intfloat__multilingual-e5-large-instruct\n",
      "Top-5 Cevap Adayları:\n",
      "  1. [0.8708] Zaman yönetimi, hayatta başarılı olmak için sahip olunması gereken önemli bir beceridir. Gününüzden en iyi şekilde yararlanabilmeniz için görevlere öncelik vermenizi ve zamanınızı en iyi şekilde değerlendirmenizi sağlar. Etkili zaman yönetimine sahip olmak aynı zamanda odaklanmanıza ve doğru yolda kalmanıza yardımcı olur ve ertelemeyi önler. Zamanınızı etkili bir şekilde yönetmenin bir yolu, bir program oluşturmak ve ona bağlı kalmaktır. Günün belirli saatlerini belirli etkinliklere ayırmanız ve bu saatlere saygı duymanız önemlidir. Örneğin spor yapmak istiyorsanız her gün aynı saatte bir saat ayırın ve o randevuya mutlaka uyun. Görevleriniz için ulaşılabilir hedefler ve zaman çizelgesi belirlediğinizden de emin olmalısınız. Bunu yaparak, daha büyük görevleri yönetilebilir parçalara ayırabilir ve odaklanmanızı ve motive olmanızı sağlayacak somut hedeflere ve teslim tarihlerine sahip olabilirsiniz. Zaman yönetimini iyileştirmenin bir başka yolu da düzenli kalmak ve bir \"yapılacaklar\" listesi oluşturmaktır. Yapılacaklar listesi, önemli görevleri takip etmenize ve en önemlilerine öncelik vermenize yardımcı olacaktır. Ayrıca, görevleri unutma olasılığını azaltır ve tamamlamanız gereken görevleri hatırlatır. Son olarak, dikkat dağıtıcı unsurları yönetmek, etkili zaman yönetimi için çok önemlidir. Verimli kalmak için, gecikmelere neden olabileceğinden ve üretkenliği engelleyebileceğinden, dikkat dağıtıcı unsurları sınırlamak önemlidir. Düzenli kalmak ve mola vermek bunu önlemeye yardımcı olabilir. Genel olarak, zaman yönetimi hayatta başarılı olmak için sahip olunması gereken çok önemli bir beceridir. Programlar oluşturarak, ulaşılabilir hedefler belirleyerek, düzenli kalarak ve dikkat dağıtıcı unsurları sınırlayarak, kişi zamanını etkili bir şekilde yönetebilir ve daha fazlasını başarabilir.\n",
      "  2. [0.8516]  Metin oluşturma görevi.\n",
      "  3. [0.8516]  Zamanda Yolculuk: Bir Muhasebecinin İnanılmaz Macerası.\n",
      "  4. [0.8498]  Verilen metnin ana teması barıştır.\n",
      "  5. [0.8421] Model, verilen metni “Aile” konusuna ait olarak sınıflandırmalıdır.\n",
      "\n",
      "Top-1 Cevap: [0.8708] Zaman yönetimi, hayatta başarılı olmak için sahip olunması gereken önemli bir beceridir. Gününüzden en iyi şekilde yararlanabilmeniz için görevlere öncelik vermenizi ve zamanınızı en iyi şekilde değerlendirmenizi sağlar. Etkili zaman yönetimine sahip olmak aynı zamanda odaklanmanıza ve doğru yolda kalmanıza yardımcı olur ve ertelemeyi önler. Zamanınızı etkili bir şekilde yönetmenin bir yolu, bir program oluşturmak ve ona bağlı kalmaktır. Günün belirli saatlerini belirli etkinliklere ayırmanız ve bu saatlere saygı duymanız önemlidir. Örneğin spor yapmak istiyorsanız her gün aynı saatte bir saat ayırın ve o randevuya mutlaka uyun. Görevleriniz için ulaşılabilir hedefler ve zaman çizelgesi belirlediğinizden de emin olmalısınız. Bunu yaparak, daha büyük görevleri yönetilebilir parçalara ayırabilir ve odaklanmanızı ve motive olmanızı sağlayacak somut hedeflere ve teslim tarihlerine sahip olabilirsiniz. Zaman yönetimini iyileştirmenin bir başka yolu da düzenli kalmak ve bir \"yapılacaklar\" listesi oluşturmaktır. Yapılacaklar listesi, önemli görevleri takip etmenize ve en önemlilerine öncelik vermenize yardımcı olacaktır. Ayrıca, görevleri unutma olasılığını azaltır ve tamamlamanız gereken görevleri hatırlatır. Son olarak, dikkat dağıtıcı unsurları yönetmek, etkili zaman yönetimi için çok önemlidir. Verimli kalmak için, gecikmelere neden olabileceğinden ve üretkenliği engelleyebileceğinden, dikkat dağıtıcı unsurları sınırlamak önemlidir. Düzenli kalmak ve mola vermek bunu önlemeye yardımcı olabilir. Genel olarak, zaman yönetimi hayatta başarılı olmak için sahip olunması gereken çok önemli bir beceridir. Programlar oluşturarak, ulaşılabilir hedefler belirleyerek, düzenli kalarak ve dikkat dağıtıcı unsurları sınırlayarak, kişi zamanını etkili bir şekilde yönetebilir ve daha fazlasını başarabilir.\n",
      "\n",
      "----------------------------------------\n",
      "Model: BAAI__bge-m3\n",
      "Top-5 Cevap Adayları:\n",
      "  1. [0.7137] Zaman yönetimi, hayatta başarılı olmak için sahip olunması gereken önemli bir beceridir. Gününüzden en iyi şekilde yararlanabilmeniz için görevlere öncelik vermenizi ve zamanınızı en iyi şekilde değerlendirmenizi sağlar. Etkili zaman yönetimine sahip olmak aynı zamanda odaklanmanıza ve doğru yolda kalmanıza yardımcı olur ve ertelemeyi önler. Zamanınızı etkili bir şekilde yönetmenin bir yolu, bir program oluşturmak ve ona bağlı kalmaktır. Günün belirli saatlerini belirli etkinliklere ayırmanız ve bu saatlere saygı duymanız önemlidir. Örneğin spor yapmak istiyorsanız her gün aynı saatte bir saat ayırın ve o randevuya mutlaka uyun. Görevleriniz için ulaşılabilir hedefler ve zaman çizelgesi belirlediğinizden de emin olmalısınız. Bunu yaparak, daha büyük görevleri yönetilebilir parçalara ayırabilir ve odaklanmanızı ve motive olmanızı sağlayacak somut hedeflere ve teslim tarihlerine sahip olabilirsiniz. Zaman yönetimini iyileştirmenin bir başka yolu da düzenli kalmak ve bir \"yapılacaklar\" listesi oluşturmaktır. Yapılacaklar listesi, önemli görevleri takip etmenize ve en önemlilerine öncelik vermenize yardımcı olacaktır. Ayrıca, görevleri unutma olasılığını azaltır ve tamamlamanız gereken görevleri hatırlatır. Son olarak, dikkat dağıtıcı unsurları yönetmek, etkili zaman yönetimi için çok önemlidir. Verimli kalmak için, gecikmelere neden olabileceğinden ve üretkenliği engelleyebileceğinden, dikkat dağıtıcı unsurları sınırlamak önemlidir. Düzenli kalmak ve mola vermek bunu önlemeye yardımcı olabilir. Genel olarak, zaman yönetimi hayatta başarılı olmak için sahip olunması gereken çok önemli bir beceridir. Programlar oluşturarak, ulaşılabilir hedefler belirleyerek, düzenli kalarak ve dikkat dağıtıcı unsurları sınırlayarak, kişi zamanını etkili bir şekilde yönetebilir ve daha fazlasını başarabilir.\n",
      "  2. [0.5550]  Kişisel Yazı.\n",
      "  3. [0.5377] Eğitim ve aile yükümlülüklerini dengelemenin bir yolu, bir program oluşturmak ve önceden plan yapmaktır. Hem eğitim hem de aile için belirli taahhütler ve son tarihler belirleyin ve hangilerinin daha önemli olduğunu ve önceliklendirilmesi gerektiğini belirleyin. Çalışmak ve aile sorumluluklarına katılmak için belirlenmiş zaman dilimleriyle tutarlı bir rutin geliştirin. Bu, her görevin ele alındığından ve anların etkili bir şekilde yönetildiğinden emin olmanıza yardımcı olacaktır. Organize olmak, son dakika teslim tarihlerinden ve görevlerden kaçınmanıza da yardımcı olur. Yapılabilir ve gerçekçi olan makul rutinler oluşturun. Molalar, boş zaman etkinlikleri ve kişisel bakım için zaman ekleyin. Görevlerin ve sorumlulukların aile üyeleri arasında nasıl paylaşılabileceğini tartışmak için aile, arkadaşlar ve diğer destek ağlarıyla bağlantı kurun. Son olarak, bu değişiklikleri aileye ilettiğinizden ve onları sürece dahil ettiğinizden emin olun. Bu, aile üyeleri değişikliklere uyum sağladıkça anlayışı ve işbirliğini geliştirebilir.\n",
      "  4. [0.5354] Kısıtlı sürede bir projeyi tamamlama sorununu çözmek için düşünülebilecek üç çözüm vardır. İlk çözüm, zamanı dikkatli bir şekilde planlamak ve önceliklendirmek. Projeyi önceden planlayarak ve hangi görevlerin en büyük önceliğe sahip olduğunu ve önce tamamlanması gerektiğini anlayarak, proje daha verimli ve hızlı bir şekilde tamamlanabilir. Bu, önemsiz veya alakasız görevlerde zamanın boşa harcanmamasını sağlamaya yardımcı olacaktır. İkinci çözüm, görevleri devretmek. Projenin türüne ve mevcut ekip üyelerinin sayısına bağlı olarak, projeyi tamamlamak için gereken bazı görevleri devretmek mümkün olabilir. Bu, tüm ekibin becerilerini kullanırken herhangi bir kişinin üzerindeki yükü azaltacaktır. Üçüncü çözüm, görevlerin nasıl tamamlanacağı konusunda daha verimli ve yaratıcı olmaktır. Örneğin, görevleri hızlı bir şekilde tamamlamak için teknolojiden yararlanmanın kısayollarını veya yeni yollarını aramak veya alışılmışın dışında düşünmek ve sorunlara yaratıcı çözümler bulmak. Yaratıcı olmak ve projeye yaklaşmanın yeni yollarını aramak, projeyi son teslim tarihinden önce bitirmeye yardımcı olabilir.\n",
      "  5. [0.5320] Herkese günaydın. Bugün kişisel farkındalığın öneminden bahsetmek istiyorum. Hayatımıza devam ederken, zamanımızın büyük bir kısmı dünyadaki yerimizi ve etrafımızdaki insanları belirlemeyle geçiyor. Geri adım atmayı ve en içteki duygularımızı, niyetlerimizi ve motivasyonlarımızı analiz etmeyi unutmak kolay olabilir. Bunu yapmak, ilişkilerimizden kariyer seçimlerimize kadar hayatımızın her alanında son derece faydalı bir etkiye sahip olabilir. Kişisel farkındalık, kendi sınırlarımızı ve yeteneklerimizi anlamak kadar, onlara neden sahip olduğumuzu anlamakla da ilgilidir. Bizi zayıflıklarımızla yüzleşmeye ve yapıcı eleştirilere açık olmaya zorlar. Gelecekte daha iyi kararlar alabilmemiz için koşullarımız ve geçmiş seçimlerimiz üzerinde derinlemesine düşünmemizi sağlar. Kendimize dikkat ederek, etrafımızdaki insanlar üzerindeki etkimizi ve o anda nasıl hissettiklerini daha iyi anlayabiliriz. Aynı zamanda, başkalarını daha fazla kabul etmemizi ve yargılamayı azaltmamızı ve anlayış yaratmamızı teşvik eder. Öz farkındalığa sahip olmak, gerçek kimliğimize ve değerlerimize daha fazla güvenmemizi sağlarken, bize sadece dürtüden daha fazlasıyla beslenen eğitimli kararlar verme netliğini verir. Bu sadece kim olduğunuzu bilmekle ilgili değil, kendinizden en iyi şekilde yararlanmak için kendinizi rahat ve güçlü hissetmekle ilgili. Umarım bu noktalar, kişisel farkındalığın başarımız, mutluluğumuz ve esenliğimiz için neden bu kadar önemli olduğuna ışık tutmuştur. Teşekkür ederim.\n",
      "\n",
      "Top-1 Cevap: [0.7137] Zaman yönetimi, hayatta başarılı olmak için sahip olunması gereken önemli bir beceridir. Gününüzden en iyi şekilde yararlanabilmeniz için görevlere öncelik vermenizi ve zamanınızı en iyi şekilde değerlendirmenizi sağlar. Etkili zaman yönetimine sahip olmak aynı zamanda odaklanmanıza ve doğru yolda kalmanıza yardımcı olur ve ertelemeyi önler. Zamanınızı etkili bir şekilde yönetmenin bir yolu, bir program oluşturmak ve ona bağlı kalmaktır. Günün belirli saatlerini belirli etkinliklere ayırmanız ve bu saatlere saygı duymanız önemlidir. Örneğin spor yapmak istiyorsanız her gün aynı saatte bir saat ayırın ve o randevuya mutlaka uyun. Görevleriniz için ulaşılabilir hedefler ve zaman çizelgesi belirlediğinizden de emin olmalısınız. Bunu yaparak, daha büyük görevleri yönetilebilir parçalara ayırabilir ve odaklanmanızı ve motive olmanızı sağlayacak somut hedeflere ve teslim tarihlerine sahip olabilirsiniz. Zaman yönetimini iyileştirmenin bir başka yolu da düzenli kalmak ve bir \"yapılacaklar\" listesi oluşturmaktır. Yapılacaklar listesi, önemli görevleri takip etmenize ve en önemlilerine öncelik vermenize yardımcı olacaktır. Ayrıca, görevleri unutma olasılığını azaltır ve tamamlamanız gereken görevleri hatırlatır. Son olarak, dikkat dağıtıcı unsurları yönetmek, etkili zaman yönetimi için çok önemlidir. Verimli kalmak için, gecikmelere neden olabileceğinden ve üretkenliği engelleyebileceğinden, dikkat dağıtıcı unsurları sınırlamak önemlidir. Düzenli kalmak ve mola vermek bunu önlemeye yardımcı olabilir. Genel olarak, zaman yönetimi hayatta başarılı olmak için sahip olunması gereken çok önemli bir beceridir. Programlar oluşturarak, ulaşılabilir hedefler belirleyerek, düzenli kalarak ve dikkat dağıtıcı unsurları sınırlayarak, kişi zamanını etkili bir şekilde yönetebilir ve daha fazlasını başarabilir.\n",
      "\n",
      "----------------------------------------\n",
      "Model: ytu-ce-cosmos__turkish-colbert\n",
      "Top-5 Cevap Adayları:\n",
      "  1. [0.8741]  Güzel yazı.\n",
      "  2. [0.8325] Model, verilen metni “Aile” konusuna ait olarak sınıflandırmalıdır.\n",
      "  3. [0.8279] 1. Coursera: IBM tarafından \"Yapay Zekaya Giriş\" 2. Udacity: \"Yapay Zekaya Giriş\" kursu 3. MIT OpenCourseware: \"Yapay Zekaya Giriş\" 4. edX: Harvard ve IBM tarafından \"Yapay Zekaya Giriş\" 5. Stanford University Online: \"Yapay Zeka ve Makine Öğrenimi\" kursu 6. Google AI: \"Makine Öğrenimi Hızlandırılmış Kursu\" 7. David Silver: \"Güçlendirmeli Öğrenim Kursu\" 8. Andrew Ng: \"Derin Öğrenme\" kursu 9. O'Reilly: \" AI Kitabı: Yapay Zeka ve Makine Öğrenimi\" 10. Andrew Ng: \"Makine Öğrenimi Özlemi\" kitabı.\n",
      "  4. [0.8198]  SEÇİN * NEREDE konu = 'bahçıvanlık' makalelerinden alaka düzeyine göre SİPARİŞ TANININ;\n",
      "  5. [0.8173]  Tavsiye edeceğim psikoloji üzerine üç kitap: 1) Daniel Kahneman'ın Hızlı ve Yavaş Düşünme; 2) Sannd'ın Sonu, Dr. Paul Dolan; ve 3) Alışkanlığın Gücü, Charles Duhigg.\n",
      "\n",
      "Top-1 Cevap: [0.8741]  Güzel yazı.\n",
      "\n",
      "----------------------------------------\n",
      "Model: thenlper__gte-large\n",
      "Top-5 Cevap Adayları:\n",
      "  1. [0.9186]  Öğretmen köpek hakkında bir makale yazdı.\n",
      "  2. [0.9102] Zaman yönetimi, hayatta başarılı olmak için sahip olunması gereken önemli bir beceridir. Gününüzden en iyi şekilde yararlanabilmeniz için görevlere öncelik vermenizi ve zamanınızı en iyi şekilde değerlendirmenizi sağlar. Etkili zaman yönetimine sahip olmak aynı zamanda odaklanmanıza ve doğru yolda kalmanıza yardımcı olur ve ertelemeyi önler. Zamanınızı etkili bir şekilde yönetmenin bir yolu, bir program oluşturmak ve ona bağlı kalmaktır. Günün belirli saatlerini belirli etkinliklere ayırmanız ve bu saatlere saygı duymanız önemlidir. Örneğin spor yapmak istiyorsanız her gün aynı saatte bir saat ayırın ve o randevuya mutlaka uyun. Görevleriniz için ulaşılabilir hedefler ve zaman çizelgesi belirlediğinizden de emin olmalısınız. Bunu yaparak, daha büyük görevleri yönetilebilir parçalara ayırabilir ve odaklanmanızı ve motive olmanızı sağlayacak somut hedeflere ve teslim tarihlerine sahip olabilirsiniz. Zaman yönetimini iyileştirmenin bir başka yolu da düzenli kalmak ve bir \"yapılacaklar\" listesi oluşturmaktır. Yapılacaklar listesi, önemli görevleri takip etmenize ve en önemlilerine öncelik vermenize yardımcı olacaktır. Ayrıca, görevleri unutma olasılığını azaltır ve tamamlamanız gereken görevleri hatırlatır. Son olarak, dikkat dağıtıcı unsurları yönetmek, etkili zaman yönetimi için çok önemlidir. Verimli kalmak için, gecikmelere neden olabileceğinden ve üretkenliği engelleyebileceğinden, dikkat dağıtıcı unsurları sınırlamak önemlidir. Düzenli kalmak ve mola vermek bunu önlemeye yardımcı olabilir. Genel olarak, zaman yönetimi hayatta başarılı olmak için sahip olunması gereken çok önemli bir beceridir. Programlar oluşturarak, ulaşılabilir hedefler belirleyerek, düzenli kalarak ve dikkat dağıtıcı unsurları sınırlayarak, kişi zamanını etkili bir şekilde yönetebilir ve daha fazlasını başarabilir.\n",
      "  3. [0.9017]  Yarın üretken olabilmem için dinlenmeye ve şarj olmaya biraz zaman ayırıyorum.\n",
      "  4. [0.9003] Jim her zaman zamanda yolculuktan etkilenmiştir. Konuyla ilgili sayısız kitap ve makale okumuş, geçmişin ve geleceğin güzelliklerini yaşayacağı günün hayalini kurmuştu. Bir gün parkta dolaşırken eski ve paslı bir zaman makinesine rastladı. Ona baktığında, garip bir enerji dalgası hissetti. Dikkatli bir şekilde makinenin içine girdi ve düğmeye bastı. Aniden, makineyi nasıl durduracağını çaresizce çözmeye çalışırken daha hızlı ve daha hızlı giderek, zaman ve uzayda savrulup gitti. Sonunda kendi zamanına geri döndü, ancak zamanda yolculuk yapabileceğine dair yeni bir bilgiyle. Olasılıkları keşfetmekten heyecan duyuyordu ve eşsiz yeteneğinin kendi geleceğini şekillendirmek için nasıl kullanılabileceğini görmek için can atıyordu.\n",
      "  5. [0.8980]  Belirli bir durumdaki kişi muhtemelen bir kaygı bozukluğu yaşıyor.\n",
      "\n",
      "Top-1 Cevap: [0.9186]  Öğretmen köpek hakkında bir makale yazdı.\n",
      "\n",
      "----------------------------------------\n"
     ]
    }
   ],
   "source": [
    "# Örnek bir soru için indeks seç\n",
    "example_question_index = 0\n",
    "example_question_text = df_sample.iloc[example_question_index]['soru']\n",
    "example_correct_answer = df_sample.iloc[example_question_index]['cevap']\n",
    "\n",
    "# Her model için cevap adaylarını göster\n",
    "print(f\"Örnek Soru: {example_question_text}\")\n",
    "print(f\"Gerçek Cevap: {example_correct_answer}\\n\")\n",
    "\n",
    "for model_name in model_files:\n",
    "    print(f\"Model: {model_name}\")\n",
    "\n",
    "    # Sorular ve cevap embedding dosyalarını oku\n",
    "    question_file = os.path.join(EMBEDDING_DATA_PATH, f\"question_{model_name}_embeddings.csv.gz\")\n",
    "    answer_file = os.path.join(EMBEDDING_DATA_PATH, f\"answer_{model_name}_embeddings.csv.gz\")\n",
    "    df_questions = pd.read_csv(question_file, compression='gzip')\n",
    "    df_answers = pd.read_csv(answer_file, compression='gzip')\n",
    "\n",
    "    # Örnek sorunun embedding'ini al\n",
    "    question_embedding = df_questions.iloc[example_question_index, 1:].values.reshape(1, -1)\n",
    "\n",
    "    # Cevap embedding'leri ile cosine similarity hesapla\n",
    "    answer_embeddings = df_answers.iloc[:, 1:].values\n",
    "    similarity_scores = cosine_similarity(question_embedding, answer_embeddings).flatten()\n",
    "\n",
    "    # Benzerlik skorlarına göre sıralama yap\n",
    "    sorted_indices = np.argsort(similarity_scores)[::-1]\n",
    "    top5_indices = sorted_indices[:5]\n",
    "\n",
    "    # İlk 5 cevabı göster\n",
    "    print(\"Top-5 Cevap Adayları:\")\n",
    "    for rank, idx in enumerate(top5_indices, 1):\n",
    "        candidate_answer = df_sample.iloc[idx]['cevap']\n",
    "        similarity_score = similarity_scores[idx]\n",
    "        print(f\"  {rank}. [{similarity_score:.4f}] {candidate_answer}\")\n",
    "\n",
    "    # Top-1 cevabı göster\n",
    "    top1_index = sorted_indices[0]\n",
    "    top1_candidate = df_sample.iloc[top1_index]['cevap']\n",
    "    print(f\"\\nTop-1 Cevap: [{similarity_scores[top1_index]:.4f}] {top1_candidate}\\n\")\n",
    "    print(\"-\" * 40)\n"
   ]
  },
  {
   "cell_type": "code",
   "execution_count": 9,
   "id": "XIjNyRMKH7mi",
   "metadata": {
    "colab": {
     "base_uri": "https://localhost:8080/"
    },
    "executionInfo": {
     "elapsed": 398,
     "status": "ok",
     "timestamp": 1734168044884,
     "user": {
      "displayName": "Ahmed Ugur",
      "userId": "07278114889288036484"
     },
     "user_tz": -180
    },
    "id": "XIjNyRMKH7mi",
    "outputId": "60bc4808-9a83-40eb-9989-503e4f8c1159"
   },
   "outputs": [
    {
     "name": "stdout",
     "output_type": "stream",
     "text": [
      "Cosine Similarity Scores (sorted): [0.91860757 0.91023453 0.90168125 0.90031453 0.89795692 0.89718304\n",
      " 0.89662276 0.89611995 0.89387621 0.89358594]\n",
      "Top-5 Indices: [1435    0  794 1329  394]\n"
     ]
    }
   ],
   "source": [
    "# Örnek bir soru için similarity skorlarını kontrol et\n",
    "example_question_index = 0\n",
    "question_embedding = df_questions.iloc[example_question_index, 1:].values.reshape(1, -1)\n",
    "similarity_scores = cosine_similarity(question_embedding, answer_embeddings).flatten()\n",
    "\n",
    "# Skorların sıralanması\n",
    "sorted_indices = np.argsort(similarity_scores)[::-1]\n",
    "print(\"Cosine Similarity Scores (sorted):\", similarity_scores[sorted_indices][:10])  # İlk 10 cevabı göster cosign similatiry .4f olarak ifade et\n",
    "print(\"Top-5 Indices:\", sorted_indices[:5])  # İlk 5 indeks"
   ]
  },
  {
   "cell_type": "code",
   "execution_count": 10,
   "id": "CyRXI2E5H7gE",
   "metadata": {
    "colab": {
     "base_uri": "https://localhost:8080/"
    },
    "executionInfo": {
     "elapsed": 1026,
     "status": "ok",
     "timestamp": 1734168055855,
     "user": {
      "displayName": "Ahmed Ugur",
      "userId": "07278114889288036484"
     },
     "user_tz": -180
    },
    "id": "CyRXI2E5H7gE",
    "outputId": "fb506305-609e-425f-ce11-9b53ed334045"
   },
   "outputs": [
    {
     "name": "stdout",
     "output_type": "stream",
     "text": [
      "Correct Answer Index: 1999\n",
      "Top-1 Index: 1435\n",
      "Top-5 Indices: [1435    0  794 1329  394]\n",
      "Is Top-1 Correct? False\n",
      "Is Top-5 Correct? False\n"
     ]
    }
   ],
   "source": [
    "print(f\"Correct Answer Index: {correct_answer_idx}\")\n",
    "print(f\"Top-1 Index: {sorted_indices[0]}\")\n",
    "print(f\"Top-5 Indices: {sorted_indices[:5]}\")\n",
    "print(f\"Is Top-1 Correct? {correct_answer_idx == sorted_indices[0]}\")\n",
    "print(f\"Is Top-5 Correct? {correct_answer_idx in sorted_indices[:5]}\")"
   ]
  },
  {
   "cell_type": "code",
   "execution_count": 16,
   "id": "fc19707f-2118-4c0c-98a0-44a6e9709a31",
   "metadata": {},
   "outputs": [
    {
     "name": "stdout",
     "output_type": "stream",
     "text": [
      "Similarity Matrix Shape:(2000, 2000)\n"
     ]
    }
   ],
   "source": [
    "print(f\"Similarity Matrix Shape:{similarity_matrix.shape}\")"
   ]
  },
  {
   "cell_type": "code",
   "execution_count": null,
   "id": "yX5keYgzH7ZS",
   "metadata": {
    "colab": {
     "base_uri": "https://localhost:8080/",
     "output_embedded_package_id": "1D__8N_MVf3RyTVn05JSFG37VeF_Y6mYQ"
    },
    "executionInfo": {
     "elapsed": 10473,
     "status": "ok",
     "timestamp": 1734028981960,
     "user": {
      "displayName": "Ahmed Ugur",
      "userId": "07278114889288036484"
     },
     "user_tz": -180
    },
    "id": "yX5keYgzH7ZS",
    "outputId": "8465a0ab-8908-4b89-faa9-e0c9d1ee28b9"
   },
   "outputs": [],
   "source": [
    "# Tüm modeller ve tüm sorular için doğruluk kontrolü\n",
    "for model_name in model_files:\n",
    "    print(f\"\\nKontrol Ediliyor: {model_name}\")\n",
    "\n",
    "    # Sorular ve cevap embedding dosyalarını oku\n",
    "    question_file = os.path.join(EMBEDDING_DATA_PATH, f\"question_{model_name}_embeddings.csv.gz\")\n",
    "    answer_file = os.path.join(EMBEDDING_DATA_PATH, f\"answer_{model_name}_embeddings.csv.gz\")\n",
    "    df_questions = pd.read_csv(question_file, compression='gzip')\n",
    "    df_answers = pd.read_csv(answer_file, compression='gzip')\n",
    "\n",
    "    # Embedding matrislerini al\n",
    "    question_embeddings = df_questions.iloc[:, 1:].values\n",
    "    answer_embeddings = df_answers.iloc[:, 1:].values\n",
    "\n",
    "    # Cosine similarity hesapla\n",
    "    similarity_matrix = cosine_similarity(question_embeddings, answer_embeddings)\n",
    "\n",
    "    # Top-1 ve Top-5 kontrolü\n",
    "    for idx, row in enumerate(similarity_matrix):\n",
    "        sorted_indices = np.argsort(row)[::-1]  # Büyükten küçüğe sıralama\n",
    "        correct_answer_idx = idx  # Her sorunun doğru cevabı aynı indekste yer alıyor\n",
    "\n",
    "        # Kontrol detayları\n",
    "        top1_index = sorted_indices[0]\n",
    "        top5_indices = sorted_indices[:5]\n",
    "\n",
    "        if correct_answer_idx != top1_index:\n",
    "            print(f\"Top-1 Hata: Soru-{idx}, Doğru Cevap: {df_sample.iloc[correct_answer_idx]['cevap']}, \"\n",
    "                  f\"Top-1 Cevap: {df_sample.iloc[top1_index]['cevap']}\")\n",
    "\n",
    "        if correct_answer_idx not in top5_indices:\n",
    "            print(f\"Top-5 Hata: Soru-{idx}, Doğru Cevap: {df_sample.iloc[correct_answer_idx]['cevap']}, \"\n",
    "                  f\"Top-5 Cevaplar: {[df_sample.iloc[i]['cevap'] for i in top5_indices]}\")"
   ]
  },
  {
   "cell_type": "code",
   "execution_count": 17,
   "id": "EVLG-vUsH7WH",
   "metadata": {
    "colab": {
     "base_uri": "https://localhost:8080/"
    },
    "executionInfo": {
     "elapsed": 7223,
     "status": "ok",
     "timestamp": 1734168074488,
     "user": {
      "displayName": "Ahmed Ugur",
      "userId": "07278114889288036484"
     },
     "user_tz": -180
    },
    "id": "EVLG-vUsH7WH",
    "outputId": "929dbd70-0a8d-415a-9fff-13ae64d0df88"
   },
   "outputs": [
    {
     "name": "stdout",
     "output_type": "stream",
     "text": [
      "Model Bazlı Hatalı Tahmin Sayıları ve Yüzdeleri:\n",
      "\n",
      "\n",
      "Model: sentence-transformers__all-MiniLM-L12-v2\n",
      "  Top-1 Hatalı Tahminler: 1427 (71.35 %)\n",
      "  Top-5 Hatalı Tahminler: 1195 (59.75 %)\n",
      "\n",
      "Model: jinaai__jina-embeddings-v3\n",
      "  Top-1 Hatalı Tahminler: 301 (15.05 %)\n",
      "  Top-5 Hatalı Tahminler: 153 (7.65 %)\n",
      "\n",
      "Model: intfloat__multilingual-e5-large-instruct\n",
      "  Top-1 Hatalı Tahminler: 659 (32.95 %)\n",
      "  Top-5 Hatalı Tahminler: 385 (19.25 %)\n",
      "\n",
      "Model: BAAI__bge-m3\n",
      "  Top-1 Hatalı Tahminler: 480 (24.00 %)\n",
      "  Top-5 Hatalı Tahminler: 285 (14.25 %)\n",
      "\n",
      "Model: ytu-ce-cosmos__turkish-colbert\n",
      "  Top-1 Hatalı Tahminler: 1306 (65.30 %)\n",
      "  Top-5 Hatalı Tahminler: 999 (49.95 %)\n",
      "\n",
      "Model: thenlper__gte-large\n",
      "  Top-1 Hatalı Tahminler: 1229 (61.45 %)\n",
      "  Top-5 Hatalı Tahminler: 943 (47.15 %)\n"
     ]
    }
   ],
   "source": [
    "# Tüm modeller için Top-1 ve Top-5 hatalı tahmin sayılarını saklamak için sözlük\n",
    "error_counts = {}\n",
    "\n",
    "for model_name in model_files:\n",
    "    # Sorular ve cevap embedding dosyalarını oku\n",
    "    question_file = os.path.join(EMBEDDING_DATA_PATH, f\"question_{model_name}_embeddings.csv.gz\")\n",
    "    answer_file = os.path.join(EMBEDDING_DATA_PATH, f\"answer_{model_name}_embeddings.csv.gz\")\n",
    "    df_questions = pd.read_csv(question_file, compression='gzip')\n",
    "    df_answers = pd.read_csv(answer_file, compression='gzip')\n",
    "\n",
    "    # Embedding matrislerini al\n",
    "    question_embeddings = df_questions.iloc[:, 1:].values\n",
    "    answer_embeddings = df_answers.iloc[:, 1:].values\n",
    "\n",
    "    # Cosine similarity hesapla\n",
    "    similarity_matrix = cosine_similarity(question_embeddings, answer_embeddings)\n",
    "\n",
    "    # Hata sayacı\n",
    "    top1_errors = 0\n",
    "    top5_errors = 0\n",
    "\n",
    "    # Top-1 ve Top-5 kontrolü\n",
    "    for idx, row in enumerate(similarity_matrix):\n",
    "        sorted_indices = np.argsort(row)[::-1]  # Büyükten küçüğe sıralama\n",
    "        correct_answer_idx = idx  # Her sorunun doğru cevabı aynı indekste yer alıyor\n",
    "\n",
    "        # Top-1 hatası\n",
    "        if correct_answer_idx != sorted_indices[0]:\n",
    "            top1_errors += 1\n",
    "\n",
    "        # Top-5 hatası\n",
    "        if correct_answer_idx not in sorted_indices[:5]:\n",
    "            top5_errors += 1\n",
    "    \n",
    "    # Toplam soru sayısı\n",
    "    total_questions = len(similarity_matrix)\n",
    "\n",
    "    # Hata sayılarını ve yüzdelerini kaydet\n",
    "    error_counts[model_name] = {\n",
    "        \"Top-1 Errors\": top1_errors,\n",
    "        \"Top-1 Error %\": (top1_errors / total_questions) * 100,\n",
    "        \"Top-5 Errors\": top5_errors,\n",
    "        \"Top-5 Error %\": (top5_errors / total_questions) * 100\n",
    "    }\n",
    "\n",
    "# Hata sayılarını yazdır\n",
    "print(\"Model Bazlı Hatalı Tahmin Sayıları ve Yüzdeleri:\\n\")\n",
    "for model, errors in error_counts.items():\n",
    "    print(f\"\\nModel: {model}\")\n",
    "    print(f\"  Top-1 Hatalı Tahminler: {errors['Top-1 Errors']} ({errors['Top-1 Error %']:.2f} %)\")\n",
    "    print(f\"  Top-5 Hatalı Tahminler: {errors['Top-5 Errors']} ({errors['Top-5 Error %']:.2f} %)\")"
   ]
  },
  {
   "cell_type": "code",
   "execution_count": 18,
   "id": "b3b4c1a3",
   "metadata": {
    "colab": {
     "base_uri": "https://localhost:8080/"
    },
    "executionInfo": {
     "elapsed": 25397,
     "status": "ok",
     "timestamp": 1734168334576,
     "user": {
      "displayName": "Ahmed Ugur",
      "userId": "07278114889288036484"
     },
     "user_tz": -180
    },
    "id": "b3b4c1a3",
    "outputId": "b3599e8c-e62a-47f2-df53-a11eeec1b5cd"
   },
   "outputs": [
    {
     "name": "stdout",
     "output_type": "stream",
     "text": [
      "\n",
      "Cosine similarity hesaplanıyor: sentence-transformers__all-MiniLM-L12-v2\n",
      "sentence-transformers__all-MiniLM-L12-v2 için cosine similarity hesaplandı ve saklandı.\n",
      "\n",
      "Cosine similarity hesaplanıyor: jinaai__jina-embeddings-v3\n",
      "jinaai__jina-embeddings-v3 için cosine similarity hesaplandı ve saklandı.\n",
      "\n",
      "Cosine similarity hesaplanıyor: intfloat__multilingual-e5-large-instruct\n",
      "intfloat__multilingual-e5-large-instruct için cosine similarity hesaplandı ve saklandı.\n",
      "\n",
      "Cosine similarity hesaplanıyor: BAAI__bge-m3\n",
      "BAAI__bge-m3 için cosine similarity hesaplandı ve saklandı.\n",
      "\n",
      "Cosine similarity hesaplanıyor: ytu-ce-cosmos__turkish-colbert\n",
      "ytu-ce-cosmos__turkish-colbert için cosine similarity hesaplandı ve saklandı.\n",
      "\n",
      "Cosine similarity hesaplanıyor: thenlper__gte-large\n",
      "thenlper__gte-large için cosine similarity hesaplandı ve saklandı.\n",
      "Cosine similarity verileri pickle dosyasına kaydedildi.\n"
     ]
    }
   ],
   "source": [
    "# Pickle dosyasının kaydedileceği yol\n",
    "cosine_similarity_file = ROOT_PATH + \"/cosine_similarity_data.pkl\"\n",
    "\n",
    "# Eğer daha önce kaydedilmiş dosya varsa yükle, yoksa hesapla\n",
    "if os.path.exists(cosine_similarity_file):\n",
    "    with open(cosine_similarity_file, \"rb\") as f:\n",
    "        cosine_similarity_data = pickle.load(f)\n",
    "    print(\"Daha önce kaydedilmiş cosine similarity verileri yüklendi.\")\n",
    "else:\n",
    "    # Yeni hesaplama için boş bir veri yapısı\n",
    "    cosine_similarity_data = {}\n",
    "\n",
    "    for model_name in model_files:\n",
    "        print(f\"\\nCosine similarity hesaplanıyor: {model_name}\")\n",
    "\n",
    "        # Sorular ve cevap embedding dosyalarını oku\n",
    "        question_file = os.path.join(EMBEDDING_DATA_PATH, f\"question_{model_name}_embeddings.csv.gz\")\n",
    "        answer_file = os.path.join(EMBEDDING_DATA_PATH, f\"answer_{model_name}_embeddings.csv.gz\")\n",
    "        df_questions = pd.read_csv(question_file, compression='gzip')\n",
    "        df_answers = pd.read_csv(answer_file, compression='gzip')\n",
    "\n",
    "        # Tüm sorular ve cevaplar için cosine similarity hesapla\n",
    "        question_embeddings = df_questions.iloc[:, 1:].values\n",
    "        answer_embeddings = df_answers.iloc[:, 1:].values\n",
    "        similarity_matrix = cosine_similarity(question_embeddings, answer_embeddings)\n",
    "\n",
    "        # Hesaplanan similarity matrisini kaydet\n",
    "        cosine_similarity_data[model_name] = similarity_matrix\n",
    "        print(f\"{model_name} için cosine similarity hesaplandı ve saklandı.\")\n",
    "\n",
    "    # Pickle ile kaydet\n",
    "    with open(cosine_similarity_file, \"wb\") as f:\n",
    "        pickle.dump(cosine_similarity_data, f)\n",
    "    print(\"Cosine similarity verileri pickle dosyasına kaydedildi.\")"
   ]
  },
  {
   "cell_type": "code",
   "execution_count": 20,
   "id": "ec4046c5",
   "metadata": {
    "colab": {
     "base_uri": "https://localhost:8080/"
    },
    "executionInfo": {
     "elapsed": 1794,
     "status": "ok",
     "timestamp": 1734168380150,
     "user": {
      "displayName": "Ahmed Ugur",
      "userId": "07278114889288036484"
     },
     "user_tz": -180
    },
    "id": "ec4046c5",
    "outputId": "a534bb97-31ed-42ed-d285-b5af3707995e"
   },
   "outputs": [
    {
     "name": "stdout",
     "output_type": "stream",
     "text": [
      "Ensemble Performans Sonuçları:\n",
      "Majority Voting: Top-1 Accuracy: 0.7175, Top-5 Accuracy: 0.9365\n",
      "Average Cosine: Top-1 Accuracy: 0.7760, Top-5 Accuracy: 0.8700\n",
      "Weighted Average: Top-1 Accuracy: 0.8195, Top-5 Accuracy: 0.9045\n"
     ]
    }
   ],
   "source": [
    "# Pickle dosyasını yükle\n",
    "with open(cosine_similarity_file, \"rb\") as f:\n",
    "    cosine_similarity_data = pickle.load(f)\n",
    "\n",
    "# Ensemble sonuçlarını saklamak için\n",
    "ensemble_results = {\n",
    "    \"Majority Voting\": {\"Top-1\": 0, \"Top-5\": 0},\n",
    "    \"Average Cosine\": {\"Top-1\": 0, \"Top-5\": 0},\n",
    "    \"Weighted Average\": {\"Top-1\": 0, \"Top-5\": 0}\n",
    "}\n",
    "\n",
    "model_weights = {\n",
    "    \"sentence-transformers__all-MiniLM-L12-v2\": 0.314,  # MiniLM doğruluk oranı\n",
    "    \"jinaai__jina-embeddings-v3\": 0.861,  # Jina doğruluk oranı\n",
    "    \"intfloat__multilingual-e5-large-instruct\": 0.660,  # E5-Large doğruluk oranı\n",
    "    \"BAAI__bge-m3\": 0.765,  # BGE-M3 doğruluk oranı\n",
    "    \"ytu-ce-cosmos__turkish-colbert\": 0.351,  # ColBERT doğruluk oranı\n",
    "    \"thenlper__gte-large\": 0.413\n",
    "}\n",
    "\n",
    "# Ensemble hesaplama\n",
    "for idx in range(len(df_sample)):\n",
    "    #print(f\"İşleniyor: Soru-{idx + 1}/{len(df_sample)}\")\n",
    "\n",
    "    # Her modelin similarity skorlarını ve sıralamalarını sakla\n",
    "    all_similarities = []\n",
    "    all_top5_candidates = []\n",
    "\n",
    "    for model_name, similarity_matrix in cosine_similarity_data.items():\n",
    "        row = similarity_matrix[idx]  # İlgili sorunun tüm cevaplarla benzerlik skorları\n",
    "        sorted_indices = np.argsort(row)[::-1]\n",
    "\n",
    "        # Top-5 adayları ve skorları\n",
    "        all_top5_candidates.append(sorted_indices[:5])\n",
    "        all_similarities.append(row)\n",
    "\n",
    "    # Gerçek cevap indeksi\n",
    "    correct_answer_idx = idx\n",
    "\n",
    "    # Ensemble 1: Majority Voting\n",
    "    from collections import Counter\n",
    "    flattened_top5 = [idx for sublist in all_top5_candidates for idx in sublist]\n",
    "    most_common = Counter(flattened_top5).most_common(1)[0][0]  # En sık geçen cevap\n",
    "    if most_common == correct_answer_idx:\n",
    "        ensemble_results[\"Majority Voting\"][\"Top-1\"] += 1\n",
    "    if correct_answer_idx in Counter(flattened_top5).keys():\n",
    "        ensemble_results[\"Majority Voting\"][\"Top-5\"] += 1\n",
    "\n",
    "    # Ensemble 2: Average Cosine Similarity\n",
    "    avg_scores = np.mean(all_similarities, axis=0)\n",
    "    avg_sorted_indices = np.argsort(avg_scores)[::-1]\n",
    "    if avg_sorted_indices[0] == correct_answer_idx:\n",
    "        ensemble_results[\"Average Cosine\"][\"Top-1\"] += 1\n",
    "    if correct_answer_idx in avg_sorted_indices[:5]:\n",
    "        ensemble_results[\"Average Cosine\"][\"Top-5\"] += 1\n",
    "\n",
    "    # Ensemble 3: Weighted Average\n",
    "    weighted_scores = sum(\n",
    "        model_weights[model_files[i]] * all_similarities[i] for i in range(len(model_files))\n",
    "    )\n",
    "    weighted_sorted_indices = np.argsort(weighted_scores)[::-1]\n",
    "    if weighted_sorted_indices[0] == correct_answer_idx:\n",
    "        ensemble_results[\"Weighted Average\"][\"Top-1\"] += 1\n",
    "    if correct_answer_idx in weighted_sorted_indices[:5]:\n",
    "        ensemble_results[\"Weighted Average\"][\"Top-5\"] += 1\n",
    "\n",
    "# Ensemble doğruluk oranlarını hesapla\n",
    "for method, results in ensemble_results.items():\n",
    "    results[\"Top-1 Accuracy\"] = results[\"Top-1\"] / len(df_sample)\n",
    "    results[\"Top-5 Accuracy\"] = results[\"Top-5\"] / len(df_sample)\n",
    "\n",
    "# Sonuçları yazdır\n",
    "print(\"Ensemble Performans Sonuçları:\")\n",
    "for method, results in ensemble_results.items():\n",
    "    print(f\"{method}: Top-1 Accuracy: {results['Top-1 Accuracy']:.4f}, Top-5 Accuracy: {results['Top-5 Accuracy']:.4f}\")"
   ]
  },
  {
   "cell_type": "code",
   "execution_count": 21,
   "id": "c6b1ae90",
   "metadata": {
    "colab": {
     "base_uri": "https://localhost:8080/"
    },
    "executionInfo": {
     "elapsed": 572,
     "status": "ok",
     "timestamp": 1734168393985,
     "user": {
      "displayName": "Ahmed Ugur",
      "userId": "07278114889288036484"
     },
     "user_tz": -180
    },
    "id": "c6b1ae90",
    "outputId": "ab16214e-b92d-4131-b6cd-ed27ef7cf997"
   },
   "outputs": [
    {
     "name": "stdout",
     "output_type": "stream",
     "text": [
      "Örnek Soru:  Belirli bir konu hakkında bir makale yazın. Konu: Zaman Yönetimi\n",
      "Gerçek Cevap: Zaman yönetimi, hayatta başarılı olmak için sahip olunması gereken önemli bir beceridir. Gününüzden en iyi şekilde yararlanabilmeniz için görevlere öncelik vermenizi ve zamanınızı en iyi şekilde değerlendirmenizi sağlar. Etkili zaman yönetimine sahip olmak aynı zamanda odaklanmanıza ve doğru yolda kalmanıza yardımcı olur ve ertelemeyi önler. Zamanınızı etkili bir şekilde yönetmenin bir yolu, bir program oluşturmak ve ona bağlı kalmaktır. Günün belirli saatlerini belirli etkinliklere ayırmanız ve bu saatlere saygı duymanız önemlidir. Örneğin spor yapmak istiyorsanız her gün aynı saatte bir saat ayırın ve o randevuya mutlaka uyun. Görevleriniz için ulaşılabilir hedefler ve zaman çizelgesi belirlediğinizden de emin olmalısınız. Bunu yaparak, daha büyük görevleri yönetilebilir parçalara ayırabilir ve odaklanmanızı ve motive olmanızı sağlayacak somut hedeflere ve teslim tarihlerine sahip olabilirsiniz. Zaman yönetimini iyileştirmenin bir başka yolu da düzenli kalmak ve bir \"yapılacaklar\" listesi oluşturmaktır. Yapılacaklar listesi, önemli görevleri takip etmenize ve en önemlilerine öncelik vermenize yardımcı olacaktır. Ayrıca, görevleri unutma olasılığını azaltır ve tamamlamanız gereken görevleri hatırlatır. Son olarak, dikkat dağıtıcı unsurları yönetmek, etkili zaman yönetimi için çok önemlidir. Verimli kalmak için, gecikmelere neden olabileceğinden ve üretkenliği engelleyebileceğinden, dikkat dağıtıcı unsurları sınırlamak önemlidir. Düzenli kalmak ve mola vermek bunu önlemeye yardımcı olabilir. Genel olarak, zaman yönetimi hayatta başarılı olmak için sahip olunması gereken çok önemli bir beceridir. Programlar oluşturarak, ulaşılabilir hedefler belirleyerek, düzenli kalarak ve dikkat dağıtıcı unsurları sınırlayarak, kişi zamanını etkili bir şekilde yönetebilir ve daha fazlasını başarabilir.\n",
      "\n",
      "Ensemble Yöntemlerinin Top-1 Cevapları:\n",
      "\n",
      "Majority Voting Cevabı:\n",
      "  [Frekans: 4] Zaman yönetimi, hayatta başarılı olmak için sahip olunması gereken önemli bir beceridir. Gününüzden en iyi şekilde yararlanabilmeniz için görevlere öncelik vermenizi ve zamanınızı en iyi şekilde değerlendirmenizi sağlar. Etkili zaman yönetimine sahip olmak aynı zamanda odaklanmanıza ve doğru yolda kalmanıza yardımcı olur ve ertelemeyi önler. Zamanınızı etkili bir şekilde yönetmenin bir yolu, bir program oluşturmak ve ona bağlı kalmaktır. Günün belirli saatlerini belirli etkinliklere ayırmanız ve bu saatlere saygı duymanız önemlidir. Örneğin spor yapmak istiyorsanız her gün aynı saatte bir saat ayırın ve o randevuya mutlaka uyun. Görevleriniz için ulaşılabilir hedefler ve zaman çizelgesi belirlediğinizden de emin olmalısınız. Bunu yaparak, daha büyük görevleri yönetilebilir parçalara ayırabilir ve odaklanmanızı ve motive olmanızı sağlayacak somut hedeflere ve teslim tarihlerine sahip olabilirsiniz. Zaman yönetimini iyileştirmenin bir başka yolu da düzenli kalmak ve bir \"yapılacaklar\" listesi oluşturmaktır. Yapılacaklar listesi, önemli görevleri takip etmenize ve en önemlilerine öncelik vermenize yardımcı olacaktır. Ayrıca, görevleri unutma olasılığını azaltır ve tamamlamanız gereken görevleri hatırlatır. Son olarak, dikkat dağıtıcı unsurları yönetmek, etkili zaman yönetimi için çok önemlidir. Verimli kalmak için, gecikmelere neden olabileceğinden ve üretkenliği engelleyebileceğinden, dikkat dağıtıcı unsurları sınırlamak önemlidir. Düzenli kalmak ve mola vermek bunu önlemeye yardımcı olabilir. Genel olarak, zaman yönetimi hayatta başarılı olmak için sahip olunması gereken çok önemli bir beceridir. Programlar oluşturarak, ulaşılabilir hedefler belirleyerek, düzenli kalarak ve dikkat dağıtıcı unsurları sınırlayarak, kişi zamanını etkili bir şekilde yönetebilir ve daha fazlasını başarabilir.\n",
      "\n",
      "Average Cosine Similarity Cevabı:\n",
      "  [Benzerlik (Avg): 0.7354] Zaman yönetimi, hayatta başarılı olmak için sahip olunması gereken önemli bir beceridir. Gününüzden en iyi şekilde yararlanabilmeniz için görevlere öncelik vermenizi ve zamanınızı en iyi şekilde değerlendirmenizi sağlar. Etkili zaman yönetimine sahip olmak aynı zamanda odaklanmanıza ve doğru yolda kalmanıza yardımcı olur ve ertelemeyi önler. Zamanınızı etkili bir şekilde yönetmenin bir yolu, bir program oluşturmak ve ona bağlı kalmaktır. Günün belirli saatlerini belirli etkinliklere ayırmanız ve bu saatlere saygı duymanız önemlidir. Örneğin spor yapmak istiyorsanız her gün aynı saatte bir saat ayırın ve o randevuya mutlaka uyun. Görevleriniz için ulaşılabilir hedefler ve zaman çizelgesi belirlediğinizden de emin olmalısınız. Bunu yaparak, daha büyük görevleri yönetilebilir parçalara ayırabilir ve odaklanmanızı ve motive olmanızı sağlayacak somut hedeflere ve teslim tarihlerine sahip olabilirsiniz. Zaman yönetimini iyileştirmenin bir başka yolu da düzenli kalmak ve bir \"yapılacaklar\" listesi oluşturmaktır. Yapılacaklar listesi, önemli görevleri takip etmenize ve en önemlilerine öncelik vermenize yardımcı olacaktır. Ayrıca, görevleri unutma olasılığını azaltır ve tamamlamanız gereken görevleri hatırlatır. Son olarak, dikkat dağıtıcı unsurları yönetmek, etkili zaman yönetimi için çok önemlidir. Verimli kalmak için, gecikmelere neden olabileceğinden ve üretkenliği engelleyebileceğinden, dikkat dağıtıcı unsurları sınırlamak önemlidir. Düzenli kalmak ve mola vermek bunu önlemeye yardımcı olabilir. Genel olarak, zaman yönetimi hayatta başarılı olmak için sahip olunması gereken çok önemli bir beceridir. Programlar oluşturarak, ulaşılabilir hedefler belirleyerek, düzenli kalarak ve dikkat dağıtıcı unsurları sınırlayarak, kişi zamanını etkili bir şekilde yönetebilir ve daha fazlasını başarabilir.\n",
      "\n",
      "Weighted Average Cevabı:\n",
      "  [Benzerlik (Weighted): 25.1065] Zaman yönetimi, hayatta başarılı olmak için sahip olunması gereken önemli bir beceridir. Gününüzden en iyi şekilde yararlanabilmeniz için görevlere öncelik vermenizi ve zamanınızı en iyi şekilde değerlendirmenizi sağlar. Etkili zaman yönetimine sahip olmak aynı zamanda odaklanmanıza ve doğru yolda kalmanıza yardımcı olur ve ertelemeyi önler. Zamanınızı etkili bir şekilde yönetmenin bir yolu, bir program oluşturmak ve ona bağlı kalmaktır. Günün belirli saatlerini belirli etkinliklere ayırmanız ve bu saatlere saygı duymanız önemlidir. Örneğin spor yapmak istiyorsanız her gün aynı saatte bir saat ayırın ve o randevuya mutlaka uyun. Görevleriniz için ulaşılabilir hedefler ve zaman çizelgesi belirlediğinizden de emin olmalısınız. Bunu yaparak, daha büyük görevleri yönetilebilir parçalara ayırabilir ve odaklanmanızı ve motive olmanızı sağlayacak somut hedeflere ve teslim tarihlerine sahip olabilirsiniz. Zaman yönetimini iyileştirmenin bir başka yolu da düzenli kalmak ve bir \"yapılacaklar\" listesi oluşturmaktır. Yapılacaklar listesi, önemli görevleri takip etmenize ve en önemlilerine öncelik vermenize yardımcı olacaktır. Ayrıca, görevleri unutma olasılığını azaltır ve tamamlamanız gereken görevleri hatırlatır. Son olarak, dikkat dağıtıcı unsurları yönetmek, etkili zaman yönetimi için çok önemlidir. Verimli kalmak için, gecikmelere neden olabileceğinden ve üretkenliği engelleyebileceğinden, dikkat dağıtıcı unsurları sınırlamak önemlidir. Düzenli kalmak ve mola vermek bunu önlemeye yardımcı olabilir. Genel olarak, zaman yönetimi hayatta başarılı olmak için sahip olunması gereken çok önemli bir beceridir. Programlar oluşturarak, ulaşılabilir hedefler belirleyerek, düzenli kalarak ve dikkat dağıtıcı unsurları sınırlayarak, kişi zamanını etkili bir şekilde yönetebilir ve daha fazlasını başarabilir.\n",
      "\n",
      "Ensemble Yöntemlerinin Top-5 Cevapları ve Skorları:\n",
      "\n",
      "Majority Voting Top-5 Cevaplar:\n",
      "  1. [Frekans: 4] Zaman yönetimi, hayatta başarılı olmak için sahip olunması gereken önemli bir beceridir. Gününüzden en iyi şekilde yararlanabilmeniz için görevlere öncelik vermenizi ve zamanınızı en iyi şekilde değerlendirmenizi sağlar. Etkili zaman yönetimine sahip olmak aynı zamanda odaklanmanıza ve doğru yolda kalmanıza yardımcı olur ve ertelemeyi önler. Zamanınızı etkili bir şekilde yönetmenin bir yolu, bir program oluşturmak ve ona bağlı kalmaktır. Günün belirli saatlerini belirli etkinliklere ayırmanız ve bu saatlere saygı duymanız önemlidir. Örneğin spor yapmak istiyorsanız her gün aynı saatte bir saat ayırın ve o randevuya mutlaka uyun. Görevleriniz için ulaşılabilir hedefler ve zaman çizelgesi belirlediğinizden de emin olmalısınız. Bunu yaparak, daha büyük görevleri yönetilebilir parçalara ayırabilir ve odaklanmanızı ve motive olmanızı sağlayacak somut hedeflere ve teslim tarihlerine sahip olabilirsiniz. Zaman yönetimini iyileştirmenin bir başka yolu da düzenli kalmak ve bir \"yapılacaklar\" listesi oluşturmaktır. Yapılacaklar listesi, önemli görevleri takip etmenize ve en önemlilerine öncelik vermenize yardımcı olacaktır. Ayrıca, görevleri unutma olasılığını azaltır ve tamamlamanız gereken görevleri hatırlatır. Son olarak, dikkat dağıtıcı unsurları yönetmek, etkili zaman yönetimi için çok önemlidir. Verimli kalmak için, gecikmelere neden olabileceğinden ve üretkenliği engelleyebileceğinden, dikkat dağıtıcı unsurları sınırlamak önemlidir. Düzenli kalmak ve mola vermek bunu önlemeye yardımcı olabilir. Genel olarak, zaman yönetimi hayatta başarılı olmak için sahip olunması gereken çok önemli bir beceridir. Programlar oluşturarak, ulaşılabilir hedefler belirleyerek, düzenli kalarak ve dikkat dağıtıcı unsurları sınırlayarak, kişi zamanını etkili bir şekilde yönetebilir ve daha fazlasını başarabilir.\n",
      "  2. [Frekans: 2]  Öğretmen köpek hakkında bir makale yazdı.\n",
      "  3. [Frekans: 2]  Belirli bir durumdaki kişi muhtemelen bir kaygı bozukluğu yaşıyor.\n",
      "  4. [Frekans: 2]  Yarın üretken olabilmem için dinlenmeye ve şarj olmaya biraz zaman ayırıyorum.\n",
      "  5. [Frekans: 2] Kısıtlı sürede bir projeyi tamamlama sorununu çözmek için düşünülebilecek üç çözüm vardır. İlk çözüm, zamanı dikkatli bir şekilde planlamak ve önceliklendirmek. Projeyi önceden planlayarak ve hangi görevlerin en büyük önceliğe sahip olduğunu ve önce tamamlanması gerektiğini anlayarak, proje daha verimli ve hızlı bir şekilde tamamlanabilir. Bu, önemsiz veya alakasız görevlerde zamanın boşa harcanmamasını sağlamaya yardımcı olacaktır. İkinci çözüm, görevleri devretmek. Projenin türüne ve mevcut ekip üyelerinin sayısına bağlı olarak, projeyi tamamlamak için gereken bazı görevleri devretmek mümkün olabilir. Bu, tüm ekibin becerilerini kullanırken herhangi bir kişinin üzerindeki yükü azaltacaktır. Üçüncü çözüm, görevlerin nasıl tamamlanacağı konusunda daha verimli ve yaratıcı olmaktır. Örneğin, görevleri hızlı bir şekilde tamamlamak için teknolojiden yararlanmanın kısayollarını veya yeni yollarını aramak veya alışılmışın dışında düşünmek ve sorunlara yaratıcı çözümler bulmak. Yaratıcı olmak ve projeye yaklaşmanın yeni yollarını aramak, projeyi son teslim tarihinden önce bitirmeye yardımcı olabilir.\n",
      "\n",
      "Average Cosine Top-5 Cevaplar:\n",
      "  1. [Benzerlik (Avg): 0.7354] Zaman yönetimi, hayatta başarılı olmak için sahip olunması gereken önemli bir beceridir. Gününüzden en iyi şekilde yararlanabilmeniz için görevlere öncelik vermenizi ve zamanınızı en iyi şekilde değerlendirmenizi sağlar. Etkili zaman yönetimine sahip olmak aynı zamanda odaklanmanıza ve doğru yolda kalmanıza yardımcı olur ve ertelemeyi önler. Zamanınızı etkili bir şekilde yönetmenin bir yolu, bir program oluşturmak ve ona bağlı kalmaktır. Günün belirli saatlerini belirli etkinliklere ayırmanız ve bu saatlere saygı duymanız önemlidir. Örneğin spor yapmak istiyorsanız her gün aynı saatte bir saat ayırın ve o randevuya mutlaka uyun. Görevleriniz için ulaşılabilir hedefler ve zaman çizelgesi belirlediğinizden de emin olmalısınız. Bunu yaparak, daha büyük görevleri yönetilebilir parçalara ayırabilir ve odaklanmanızı ve motive olmanızı sağlayacak somut hedeflere ve teslim tarihlerine sahip olabilirsiniz. Zaman yönetimini iyileştirmenin bir başka yolu da düzenli kalmak ve bir \"yapılacaklar\" listesi oluşturmaktır. Yapılacaklar listesi, önemli görevleri takip etmenize ve en önemlilerine öncelik vermenize yardımcı olacaktır. Ayrıca, görevleri unutma olasılığını azaltır ve tamamlamanız gereken görevleri hatırlatır. Son olarak, dikkat dağıtıcı unsurları yönetmek, etkili zaman yönetimi için çok önemlidir. Verimli kalmak için, gecikmelere neden olabileceğinden ve üretkenliği engelleyebileceğinden, dikkat dağıtıcı unsurları sınırlamak önemlidir. Düzenli kalmak ve mola vermek bunu önlemeye yardımcı olabilir. Genel olarak, zaman yönetimi hayatta başarılı olmak için sahip olunması gereken çok önemli bir beceridir. Programlar oluşturarak, ulaşılabilir hedefler belirleyerek, düzenli kalarak ve dikkat dağıtıcı unsurları sınırlayarak, kişi zamanını etkili bir şekilde yönetebilir ve daha fazlasını başarabilir.\n",
      "  2. [Benzerlik (Avg): 0.6797]  Zamanda Yolculuk: Bir Muhasebecinin İnanılmaz Macerası.\n",
      "  3. [Benzerlik (Avg): 0.6704]  Öğretmen köpek hakkında bir makale yazdı.\n",
      "  4. [Benzerlik (Avg): 0.6629]  Kişisel Yazı.\n",
      "  5. [Benzerlik (Avg): 0.6573]  Makaleleri bulmak ve yönetmek için kullanılan bir kütüphane yazılımı EndNote'tur.\n",
      "\n",
      "Weighted Average Top-5 Cevaplar:\n",
      "  1. [Benzerlik (Weighted): 25.1065] Zaman yönetimi, hayatta başarılı olmak için sahip olunması gereken önemli bir beceridir. Gününüzden en iyi şekilde yararlanabilmeniz için görevlere öncelik vermenizi ve zamanınızı en iyi şekilde değerlendirmenizi sağlar. Etkili zaman yönetimine sahip olmak aynı zamanda odaklanmanıza ve doğru yolda kalmanıza yardımcı olur ve ertelemeyi önler. Zamanınızı etkili bir şekilde yönetmenin bir yolu, bir program oluşturmak ve ona bağlı kalmaktır. Günün belirli saatlerini belirli etkinliklere ayırmanız ve bu saatlere saygı duymanız önemlidir. Örneğin spor yapmak istiyorsanız her gün aynı saatte bir saat ayırın ve o randevuya mutlaka uyun. Görevleriniz için ulaşılabilir hedefler ve zaman çizelgesi belirlediğinizden de emin olmalısınız. Bunu yaparak, daha büyük görevleri yönetilebilir parçalara ayırabilir ve odaklanmanızı ve motive olmanızı sağlayacak somut hedeflere ve teslim tarihlerine sahip olabilirsiniz. Zaman yönetimini iyileştirmenin bir başka yolu da düzenli kalmak ve bir \"yapılacaklar\" listesi oluşturmaktır. Yapılacaklar listesi, önemli görevleri takip etmenize ve en önemlilerine öncelik vermenize yardımcı olacaktır. Ayrıca, görevleri unutma olasılığını azaltır ve tamamlamanız gereken görevleri hatırlatır. Son olarak, dikkat dağıtıcı unsurları yönetmek, etkili zaman yönetimi için çok önemlidir. Verimli kalmak için, gecikmelere neden olabileceğinden ve üretkenliği engelleyebileceğinden, dikkat dağıtıcı unsurları sınırlamak önemlidir. Düzenli kalmak ve mola vermek bunu önlemeye yardımcı olabilir. Genel olarak, zaman yönetimi hayatta başarılı olmak için sahip olunması gereken çok önemli bir beceridir. Programlar oluşturarak, ulaşılabilir hedefler belirleyerek, düzenli kalarak ve dikkat dağıtıcı unsurları sınırlayarak, kişi zamanını etkili bir şekilde yönetebilir ve daha fazlasını başarabilir.\n",
      "  2. [Benzerlik (Weighted): 21.3642]  Zamanda Yolculuk: Bir Muhasebecinin İnanılmaz Macerası.\n",
      "  3. [Benzerlik (Weighted): 20.9061]  Zamanlar zor olabilir, ancak iyi seçilmiş teknikler yardımcı olur.\n",
      "  4. [Benzerlik (Weighted): 20.8890]  Kişisel Yazı.\n",
      "  5. [Benzerlik (Weighted): 20.4694] Jim her zaman zamanda yolculuktan etkilenmiştir. Konuyla ilgili sayısız kitap ve makale okumuş, geçmişin ve geleceğin güzelliklerini yaşayacağı günün hayalini kurmuştu. Bir gün parkta dolaşırken eski ve paslı bir zaman makinesine rastladı. Ona baktığında, garip bir enerji dalgası hissetti. Dikkatli bir şekilde makinenin içine girdi ve düğmeye bastı. Aniden, makineyi nasıl durduracağını çaresizce çözmeye çalışırken daha hızlı ve daha hızlı giderek, zaman ve uzayda savrulup gitti. Sonunda kendi zamanına geri döndü, ancak zamanda yolculuk yapabileceğine dair yeni bir bilgiyle. Olasılıkları keşfetmekten heyecan duyuyordu ve eşsiz yeteneğinin kendi geleceğini şekillendirmek için nasıl kullanılabileceğini görmek için can atıyordu.\n"
     ]
    }
   ],
   "source": [
    "from collections import Counter\n",
    "\n",
    "# Pickle dosyasını yükle\n",
    "with open(\"cosine_similarity_data.pkl\", \"rb\") as f:\n",
    "    cosine_similarity_data = pickle.load(f)\n",
    "\n",
    "# Örnek soru indeksi\n",
    "example_question_index = 0  # İlk soru (istediğiniz indeksi burada değiştirebilirsiniz)\n",
    "\n",
    "# Gerçek soruyu ve cevabı kontrol et\n",
    "example_question = df_sample.iloc[example_question_index]['soru']\n",
    "correct_answer = df_sample.iloc[example_question_index]['cevap']\n",
    "\n",
    "print(f\"Örnek Soru: {example_question}\")\n",
    "print(f\"Gerçek Cevap: {correct_answer}\\n\")\n",
    "\n",
    "# Her modelin Top-5 adaylarını ve cosine similarity skorlarını sakla\n",
    "all_similarities = []\n",
    "all_top5_candidates = []\n",
    "\n",
    "for model_name, similarity_matrix in cosine_similarity_data.items():\n",
    "    row = similarity_matrix[example_question_index]  # Örnek sorunun tüm cevaplarla benzerlik skorları\n",
    "    sorted_indices = np.argsort(row)[::-1]  # Skorları büyükten küçüğe sırala\n",
    "\n",
    "    # Top-5 adayları ve skorları\n",
    "    all_top5_candidates.append(sorted_indices[:5])\n",
    "    all_similarities.append(row)\n",
    "\n",
    "# Ensemble 1: Majority Voting (Top-1 ve Top-5)\n",
    "flattened_top5 = [idx for sublist in all_top5_candidates for idx in sublist]\n",
    "most_common = Counter(flattened_top5).most_common(1)[0][0]  # En sık geçen cevap\n",
    "ensemble_majority_voting = df_sample.iloc[most_common]['cevap']\n",
    "majority_top5 = [item[0] for item in Counter(flattened_top5).most_common(5)]\n",
    "\n",
    "# Ensemble 2: Average Cosine Similarity (Top-1 ve Top-5)\n",
    "avg_scores = np.mean(all_similarities, axis=0)\n",
    "avg_sorted_indices = np.argsort(avg_scores)[::-1]\n",
    "ensemble_avg_cosine = df_sample.iloc[avg_sorted_indices[0]]['cevap']\n",
    "average_top5 = avg_sorted_indices[:5]\n",
    "\n",
    "# Ensemble 3: Weighted Average (Top-1 ve Top-5)\n",
    "model_weights = {\n",
    "    \"sentence-transformers__all-MiniLM-L12-v2\": 3.14,  # MiniLM doğruluk oranı\n",
    "    \"jinaai__jina-embeddings-v3\": 8.61,  # Jina doğruluk oranı\n",
    "    \"intfloat__multilingual-e5-large-instruct\": 6.60,  # E5-Large doğruluk oranı\n",
    "    \"BAAI__bge-m3\": 7.65,  # BGE-M3 doğruluk oranı\n",
    "    \"ytu-ce-cosmos__turkish-colbert\": 3.51,  # ColBERT doğruluk oranı\n",
    "    \"thenlper__gte-large\": 4.13\n",
    "}\n",
    "weighted_scores = sum(\n",
    "    model_weights[list(cosine_similarity_data.keys())[i]] * all_similarities[i] for i in range(len(all_similarities))\n",
    ")\n",
    "weighted_sorted_indices = np.argsort(weighted_scores)[::-1]\n",
    "ensemble_weighted_avg = df_sample.iloc[weighted_sorted_indices[0]]['cevap']\n",
    "weighted_top5 = weighted_sorted_indices[:5]\n",
    "\n",
    "# Sonuçları yazdır\n",
    "print(\"Ensemble Yöntemlerinin Top-1 Cevapları:\")\n",
    "print(\"\\nMajority Voting Cevabı:\")\n",
    "print(f\"  [Frekans: {Counter(flattened_top5)[most_common]}] {ensemble_majority_voting}\")\n",
    "\n",
    "print(\"\\nAverage Cosine Similarity Cevabı:\")\n",
    "print(f\"  [Benzerlik (Avg): {avg_scores[avg_sorted_indices[0]]:.4f}] {ensemble_avg_cosine}\")\n",
    "\n",
    "print(\"\\nWeighted Average Cevabı:\")\n",
    "print(f\"  [Benzerlik (Weighted): {weighted_scores[weighted_sorted_indices[0]]:.4f}] {ensemble_weighted_avg}\\n\")\n",
    "\n",
    "print(\"Ensemble Yöntemlerinin Top-5 Cevapları ve Skorları:\")\n",
    "\n",
    "# Majority Voting\n",
    "print(\"\\nMajority Voting Top-5 Cevaplar:\")\n",
    "for rank, idx in enumerate(majority_top5, 1):\n",
    "    print(f\"  {rank}. [Frekans: {Counter(flattened_top5)[idx]}] {df_sample.iloc[idx]['cevap']}\")\n",
    "\n",
    "# Average Cosine Similarity\n",
    "print(\"\\nAverage Cosine Top-5 Cevaplar:\")\n",
    "for rank, idx in enumerate(average_top5, 1):\n",
    "    print(f\"  {rank}. [Benzerlik (Avg): {avg_scores[idx]:.4f}] {df_sample.iloc[idx]['cevap']}\")\n",
    "\n",
    "# Weighted Average\n",
    "print(\"\\nWeighted Average Top-5 Cevaplar:\")\n",
    "for rank, idx in enumerate(weighted_top5, 1):\n",
    "    print(f\"  {rank}. [Benzerlik (Weighted): {weighted_scores[idx]:.4f}] {df_sample.iloc[idx]['cevap']}\")"
   ]
  },
  {
   "cell_type": "code",
   "execution_count": 22,
   "id": "mXQGD1L1tmeH",
   "metadata": {
    "colab": {
     "base_uri": "https://localhost:8080/",
     "height": 623
    },
    "executionInfo": {
     "elapsed": 654,
     "status": "ok",
     "timestamp": 1734172425579,
     "user": {
      "displayName": "Ahmed Ugur",
      "userId": "07278114889288036484"
     },
     "user_tz": -180
    },
    "id": "mXQGD1L1tmeH",
    "outputId": "dcac497a-33a4-4907-d942-9ceadc9dd97b"
   },
   "outputs": [
    {
     "data": {
      "image/png": "[encoded data removed]",
      "text/plain": [
       "<Figure size 1200x700 with 1 Axes>"
      ]
     },
     "metadata": {},
     "output_type": "display_data"
    }
   ],
   "source": [
    "# Tekil modellerin başarıları\n",
    "model_names = [\"MiniLM\", \"Jina\", \"E5-Large\", \"BGE-M3\", \"ColBERT\", \"GTE Large\"]\n",
    "top1_accuracies = [0.3140, 0.8615, 0.6605, 0.7645, 0.3515, 0.4130]\n",
    "top5_accuracies = [0.4290, 0.9375, 0.8105, 0.8785, 0.5080, 0.5450]\n",
    "\n",
    "# Ensemble yöntemlerinin başarıları\n",
    "ensemble_methods = [\"Majority Voting\", \"Average Cosine\", \"Weighted Average\"]\n",
    "ensemble_top1 = [0.7360, 0.7860, 0.8260]\n",
    "ensemble_top5 = [0.9500, 0.8875, 0.9200]\n",
    "\n",
    "# Verileri birleştir\n",
    "x_labels = model_names + ensemble_methods\n",
    "top1_combined = top1_accuracies + ensemble_top1\n",
    "top5_combined = top5_accuracies + ensemble_top5\n",
    "\n",
    "# X ekseni için pozisyonlar\n",
    "x = np.arange(len(x_labels))\n",
    "\n",
    "# Bar genişliği\n",
    "bar_width = 0.4\n",
    "\n",
    "# Farklı renkler için ayarlar\n",
    "colors_top1 = ['lightblue'] * len(model_names) + ['orange', 'orange', 'orange']\n",
    "colors_top5 = ['steelblue'] * len(model_names) + ['red', 'red', 'red']\n",
    "\n",
    "# Grafik oluştur\n",
    "plt.figure(figsize=(12, 7))\n",
    "\n",
    "# Top-1 doğrulukları çizin\n",
    "bars1 = plt.bar(x - bar_width / 2, top1_combined, bar_width, label=\"Top-1 Accuracy\", color=colors_top1)\n",
    "\n",
    "# Top-5 doğrulukları çizin\n",
    "bars2 = plt.bar(x + bar_width / 2, top5_combined, bar_width, label=\"Top-5 Accuracy\", color=colors_top5)\n",
    "\n",
    "# Barların üzerinde değerleri ekleyin\n",
    "for bar in bars1:\n",
    "    plt.text(bar.get_x() + bar.get_width() / 2, bar.get_height() + 0.02, f\"{bar.get_height():.2f}\", ha='center', fontsize=9)\n",
    "for bar in bars2:\n",
    "    plt.text(bar.get_x() + bar.get_width() / 2, bar.get_height() + 0.02, f\"{bar.get_height():.2f}\", ha='center', fontsize=9)\n",
    "\n",
    "# Etiketler ve başlık\n",
    "plt.xticks(x, x_labels, rotation=45, ha=\"right\")\n",
    "plt.yticks(np.arange(0.0, 1.1, 0.1))\n",
    "plt.xlabel(\"Tekil Öğreniciler ile Ensemble Yöntemler\")\n",
    "plt.ylabel(\"Accuracy\")\n",
    "plt.title(\"Tekil Öğreniciler ile Ensemble Performansları Karşılaştırma\")\n",
    "plt.ylim(0, 1)\n",
    "plt.legend()\n",
    "\n",
    "# Göster\n",
    "plt.tight_layout()\n",
    "plt.show()"
   ]
  },
  {
   "cell_type": "code",
   "execution_count": null,
   "id": "Na1SBhzBuZDz",
   "metadata": {
    "id": "Na1SBhzBuZDz"
   },
   "outputs": [],
   "source": []
  },
  {
   "cell_type": "code",
   "execution_count": null,
   "id": "e7ac5921-f484-46ec-8965-c6aca55868df",
   "metadata": {},
   "outputs": [],
   "source": []
  }
 ],
 "metadata": {
  "colab": {
   "machine_shape": "hm",
   "provenance": [
    {
     "file_id": "1z4o46gVUTVtcUcsJ7oXucSDU93uF5g-R",
     "timestamp": 1733142110847
    }
   ]
  },
  "kernelspec": {
   "display_name": "Python 3 (ipykernel)",
   "language": "python",
   "name": "python3"
  },
  "language_info": {
   "codemirror_mode": {
    "name": "ipython",
    "version": 3
   },
   "file_extension": ".py",
   "mimetype": "text/x-python",
   "name": "python",
   "nbconvert_exporter": "python",
   "pygments_lexer": "ipython3",
   "version": "3.12.7"
  }
 },
 "nbformat": 4,
 "nbformat_minor": 5
}
