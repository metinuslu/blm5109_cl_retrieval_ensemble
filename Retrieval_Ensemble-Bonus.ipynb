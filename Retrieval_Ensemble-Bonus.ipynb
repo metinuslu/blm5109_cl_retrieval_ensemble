{
 "cells": [
  {
   "cell_type": "markdown",
   "id": "3d63f8d7-8cc9-4473-88dd-fc3b0e10ec5c",
   "metadata": {
    "id": "3d63f8d7-8cc9-4473-88dd-fc3b0e10ec5c"
   },
   "source": [
    "## Turkish Instructions Retrieval Emsemble"
   ]
  },
  {
   "cell_type": "markdown",
   "id": "41f29147-546d-4c44-ab4e-f30aee32138f",
   "metadata": {
    "id": "41f29147-546d-4c44-ab4e-f30aee32138f"
   },
   "source": [
    "### Import Libraries"
   ]
  },
  {
   "cell_type": "code",
   "execution_count": 1,
   "id": "81b4059f-f0d9-4d6b-9b20-5a3a26f51932",
   "metadata": {
    "executionInfo": {
     "elapsed": 2977,
     "status": "ok",
     "timestamp": 1734514296467,
     "user": {
      "displayName": "Ahmed Ugur",
      "userId": "07278114889288036484"
     },
     "user_tz": -180
    },
    "id": "81b4059f-f0d9-4d6b-9b20-5a3a26f51932"
   },
   "outputs": [],
   "source": [
    "import sys\n",
    "import os\n",
    "import pickle\n",
    "\n",
    "import pandas as pd\n",
    "import numpy as np\n",
    "from sklearn.metrics.pairwise import cosine_similarity\n",
    "\n",
    "import matplotlib.pyplot as plt"
   ]
  },
  {
   "cell_type": "markdown",
   "id": "c810a5ef-9d42-4fe2-b082-3d70134d265a",
   "metadata": {
    "id": "c810a5ef-9d42-4fe2-b082-3d70134d265a"
   },
   "source": [
    "#### Set Path and Constant Values"
   ]
  },
  {
   "cell_type": "code",
   "execution_count": 2,
   "id": "o2TPPI2rUlM0",
   "metadata": {
    "colab": {
     "base_uri": "https://localhost:8080/"
    },
    "executionInfo": {
     "elapsed": 27887,
     "status": "ok",
     "timestamp": 1734514331729,
     "user": {
      "displayName": "Ahmed Ugur",
      "userId": "07278114889288036484"
     },
     "user_tz": -180
    },
    "id": "o2TPPI2rUlM0",
    "outputId": "18f1b184-4cc2-4d56-fdab-e8e296422a3b"
   },
   "outputs": [],
   "source": [
    "# Set Constants\n",
    "\n",
    "# If use Google Colab\n",
    "use_colab = False\n",
    "if use_colab:\n",
    "    from google.colab import drive\n",
    "    drive.mount('/content/drive')\n",
    "    # ROOT_PATH = r\"G:\\Drive'ım\\Colab Notebooks\\HW3\"\n",
    "    ROOT_PATH = \"/content/drive/MyDrive/Colab Notebooks/HW3\"\n",
    "else:\n",
    "    ROOT_PATH = os.getcwd()\n",
    "\n",
    "CACHE_PATH = os.path.join(ROOT_PATH, 'cache')\n",
    "DATA_PATH = os.path.join(ROOT_PATH, 'data')\n",
    "RAW_DATA_PATH = os.path.join(DATA_PATH, 'raw')\n",
    "EMBEDDING_DATA_PATH = os.path.join(DATA_PATH, 'embedding')\n",
    "\n",
    "# Create Folders\n",
    "os.makedirs(RAW_DATA_PATH, exist_ok=True)\n",
    "os.makedirs(EMBEDDING_DATA_PATH, exist_ok=True)\n",
    "os.makedirs(CACHE_PATH, exist_ok=True)"
   ]
  },
  {
   "cell_type": "markdown",
   "id": "yhqNIr2xPPlf",
   "metadata": {
    "id": "yhqNIr2xPPlf"
   },
   "source": [
    "### Embedding Models"
   ]
  },
  {
   "cell_type": "code",
   "execution_count": 3,
   "id": "pJmtzDOMPS2e",
   "metadata": {
    "executionInfo": {
     "elapsed": 288,
     "status": "ok",
     "timestamp": 1734514337671,
     "user": {
      "displayName": "Ahmed Ugur",
      "userId": "07278114889288036484"
     },
     "user_tz": -180
    },
    "id": "pJmtzDOMPS2e"
   },
   "outputs": [],
   "source": [
    "model_name_mapping = {\n",
    "    \"sentence-transformers__all-MiniLM-L12-v2\": \"MiniLM\",\n",
    "    \"jinaai__jina-embeddings-v3\": \"Jina\",\n",
    "    \"intfloat__multilingual-e5-large-instruct\": \"E5-Large\",\n",
    "    \"BAAI__bge-m3\": \"BGE-M3\",\n",
    "    \"ytu-ce-cosmos__turkish-colbert\": \"ColBERT\",\n",
    "    # \"thenlper__gte-large\": \"GTE Large\"\n",
    "}\n",
    "\n",
    "# Embedding modellerin dosya isimleri\n",
    "model_files = list(model_name_mapping.keys())"
   ]
  },
  {
   "cell_type": "markdown",
   "id": "fkyXPWKSGRVk",
   "metadata": {
    "id": "fkyXPWKSGRVk"
   },
   "source": [
    "#### Load Embedding Files"
   ]
  },
  {
   "cell_type": "code",
   "execution_count": 4,
   "id": "sTro5RZ7Dt_p",
   "metadata": {
    "executionInfo": {
     "elapsed": 290,
     "status": "ok",
     "timestamp": 1734514341399,
     "user": {
      "displayName": "Ahmed Ugur",
      "userId": "07278114889288036484"
     },
     "user_tz": -180
    },
    "id": "sTro5RZ7Dt_p"
   },
   "outputs": [],
   "source": [
    "# Fonksiyon: Embedding Dosyalarını Yükle\n",
    "def load_embeddings(model_name):\n",
    "    # Soru ve cevaplar için farklı dosyalara embedding'leri kaydetmiştik\n",
    "    ds_name = \"databricks-dolly-15k-tr\"\n",
    "    question_file = os.path.join(EMBEDDING_DATA_PATH, ds_name, f\"question_{model_name}_embeddings.csv.gz\")\n",
    "    answer_file = os.path.join(EMBEDDING_DATA_PATH, ds_name, f\"answer_{model_name}_embeddings.csv.gz\")\n",
    "    df_questions = pd.read_csv(question_file, compression='gzip')\n",
    "    df_answers = pd.read_csv(answer_file, compression='gzip')\n",
    "\n",
    "    # İlk sütunlar (soru ve cevap) metin olduğu için çıkartılıyor.\n",
    "    return df_questions.iloc[:, 1:].values, df_answers.iloc[:, 1:].values"
   ]
  },
  {
   "cell_type": "markdown",
   "id": "3e9eaf77-32ec-4cfd-896f-60ed4157a4ff",
   "metadata": {
    "id": "yhqNIr2xPPlf"
   },
   "source": [
    "### Cosine Similarity"
   ]
  },
  {
   "cell_type": "markdown",
   "id": "VQVrrN68GfiF",
   "metadata": {
    "id": "VQVrrN68GfiF"
   },
   "source": [
    "#### Description"
   ]
  },
  {
   "cell_type": "markdown",
   "id": "5d3bff7c-f109-442a-ac1c-146044bed4a3",
   "metadata": {},
   "source": [
    "![Alt text](https://storage.googleapis.com/lds-media/images/cosine-similarity-vectors.original.jpg \"a title\")"
   ]
  },
  {
   "cell_type": "markdown",
   "id": "dc47ee44-9174-4e31-99ca-22716df5b367",
   "metadata": {
    "id": "VQVrrN68GfiF"
   },
   "source": [
    "#### Calculate Cosine Similarity and Save Pickle"
   ]
  },
  {
   "cell_type": "code",
   "execution_count": 5,
   "id": "bEQzEWrkGPoc",
   "metadata": {
    "executionInfo": {
     "elapsed": 430,
     "status": "ok",
     "timestamp": 1734514346296,
     "user": {
      "displayName": "Ahmed Ugur",
      "userId": "07278114889288036484"
     },
     "user_tz": -180
    },
    "id": "bEQzEWrkGPoc"
   },
   "outputs": [],
   "source": [
    "def compute_cosine_similarity():\n",
    "    ds_name = \"databricks-dolly-15k-tr\"\n",
    "    file_path = os.path.join(CACHE_PATH, ds_name+\"cosine_similarity_data.pkl\")\n",
    "    if os.path.exists(file_path):\n",
    "        with open(file_path, \"rb\") as f:\n",
    "            print(\"Daha önce kaydedilmiş cosine similarity verileri yüklendi.\")\n",
    "            return pickle.load(f)\n",
    "    else:\n",
    "        print(\"Cosine similarity hesaplanıyor...\")\n",
    "        similarity_data = {model: cosine_similarity(*load_embeddings(model)) for model in model_files}\n",
    "        with open(file_path, \"wb\") as f:\n",
    "            pickle.dump(similarity_data, f)\n",
    "        print(\"Cosine similarity hesaplandı ve pickle dosyasına kaydedildi.\")\n",
    "        return similarity_data"
   ]
  },
  {
   "cell_type": "markdown",
   "id": "6UMMLlfUNGu6",
   "metadata": {
    "id": "6UMMLlfUNGu6"
   },
   "source": [
    "#### Load Sampled Dataset"
   ]
  },
  {
   "cell_type": "code",
   "execution_count": 7,
   "id": "Q3XcswCoGRjn",
   "metadata": {
    "executionInfo": {
     "elapsed": 1133,
     "status": "ok",
     "timestamp": 1734514350436,
     "user": {
      "displayName": "Ahmed Ugur",
      "userId": "07278114889288036484"
     },
     "user_tz": -180
    },
    "id": "Q3XcswCoGRjn"
   },
   "outputs": [],
   "source": [
    "ds_name = \"databricks-dolly-15k-tr\"\n",
    "df_sample = pd.read_csv(os.path.join(RAW_DATA_PATH, ds_name, \"sampled_turkish_instructions.csv\"))"
   ]
  },
  {
   "cell_type": "markdown",
   "id": "GE5HsT2MNUJZ",
   "metadata": {
    "id": "GE5HsT2MNUJZ"
   },
   "source": [
    "#### Select a sample index for question. Explain to calculate top-1 and top-5 performance"
   ]
  },
  {
   "cell_type": "code",
   "execution_count": 8,
   "id": "DOTuTsFNBpTe",
   "metadata": {
    "colab": {
     "base_uri": "https://localhost:8080/"
    },
    "executionInfo": {
     "elapsed": 4287,
     "status": "ok",
     "timestamp": 1734467638762,
     "user": {
      "displayName": "Ahmed Ugur",
      "userId": "07278114889288036484"
     },
     "user_tz": -180
    },
    "id": "DOTuTsFNBpTe",
    "outputId": "d8c28dfe-6533-40bb-db29-b92d942bac13"
   },
   "outputs": [
    {
     "name": "stdout",
     "output_type": "stream",
     "text": [
      "Örnek Soru: Kara ceviz ağaçları nerede yetişir? Doğu Amerika kara cevizi olan Juglans nigra, Kuzey Amerika'ya özgü Juglandaceae ceviz ailesindeki yaprak döken bir ağaç türüdür. Çoğunlukla güney Ontario'dan, batıdan güneydoğuya Güney Dakota'ya, güneyden Georgia'ya, kuzey Florida'ya ve güneybatıdan Teksas'ın merkezine kadar nehir kıyısındaki bölgelerde yetişir. Yukarı Ottawa Vadisi'ndeki yabani ağaçlar, izole edilmiş bir yerli popülasyon olabilir veya dikilmiş ağaçlardan türemiş olabilir.\n",
      "Gerçek Cevap: Güney Ontario'dan Kuzey Amerika, batıdan güneydoğuya Güney Dakota, güneyden Georgia'ya, kuzey Florida'dan ve güneybatıdan Teksas'ın merkezine.\n",
      "\n",
      "--------------------------------------------------------------------------------\n",
      "Model: sentence-transformers__all-MiniLM-L12-v2\n",
      "\n",
      "Top-5 Cevap Adayları:\n",
      "  1. [0.6950] Karadeniz, Avrupa ile Asya arasında, Balkanların doğusunda, Doğu Avrupa Ovası'nın güneyinde, Kafkasya'nın batısında ve Anadolu'nun kuzeyinde yer alır. Bulgaristan, Gürcistan, Romanya, Rusya, Türkiye ve Ukrayna ile çevrilidir.\n",
      "  2. [0.6804] Yerli alabalık doğu Kuzey Amerika'da, kuzeydoğu Kanada'dan ve doğu kıyısının aşağısında, birçok yüksek rakımlı akarsuda bulundukları Amerika Birleşik Devletleri'ndeki Georgia eyaletine kadar güneyde bulunabilir. Bu bölgelere özgü olmasına rağmen, dere alabalığı, popülasyonların kuluçkahaneler tarafından yönetildiği ve yerel balıkçılığa stoklandığı dünyanın geri kalanında da bulunabilir.\n",
      "  3. [0.6637] Üzüm yetiştiriciliği ilk olarak MÖ 4. yüzyılda Ermenistan ve Akdeniz'in doğu bölgelerinde başlamıştır. Kuru üzüm, üzümlerin sıcak çöl güneşinde kurutulmasıyla üretildi. Bağcılık ve kuru üzüm üretimi çok hızlı bir şekilde Fas ve Tunus da dahil olmak üzere Kuzey Afrika'ya yayıldı. Fenikeliler ve Mısırlılar, muhtemelen güneşte kurutma için mükemmel kurak ortam nedeniyle kuru üzüm üretimini popüler hale getirdiler. Onları saklamak için kavanozlara koydular ve binlerce farklı tapınaklara ayırdılar. Ekmeklere ve çeşitli hamur işlerine de katıyorlardı. Orta Doğu'dan, bu meyveler Yunanistan üzerinden İtalya'ya yayıldı ve burada diyetin önemli bir parçası haline geldi. Eski Romalılar, zeytin ve taze meyvelerin yanı sıra, ortak yemeklerinin önemli bir parçası olarak da dahil olmak üzere, toplumun her düzeyinde ve muhteşem miktarlarda kuru üzüm tükettiler. Kuru üzümlü ekmekler kahvaltıda yaygındı ve tahılları, fasulyeleri ve kültürlü sütleriyle birlikte tüketiliyordu. Kuru üzüm o kadar değerliydi ki, gıda dünyasını aştılar ve başarılı atletler için ödül ve aynı zamanda birinci sınıf takas para birimi haline geldiler.\n",
      "  4. [0.6506] Kime sorduğunuza bağlı. Teksaslıların çoğu soruyu hayır olarak yanıtlar. Teksaslılar aksanlarını Teksas aksanı olarak tanımlarlardı. Bir Teksas aksanının sesi, genellikle bir güney aksanı olarak kabul edilenden farklıdır. Alabama, Georgia, Carolinas, Mississippi ve diğerleri gibi eyaletlerde güney aksanı yaygındır.\n",
      "  5. [0.6495] Güney Ontario'dan Kuzey Amerika, batıdan güneydoğuya Güney Dakota, güneyden Georgia'ya, kuzey Florida'dan ve güneybatıdan Teksas'ın merkezine.\n",
      "\n",
      "Top-1 Cevap: [0.6950] Karadeniz, Avrupa ile Asya arasında, Balkanların doğusunda, Doğu Avrupa Ovası'nın güneyinde, Kafkasya'nın batısında ve Anadolu'nun kuzeyinde yer alır. Bulgaristan, Gürcistan, Romanya, Rusya, Türkiye ve Ukrayna ile çevrilidir.\n",
      "\n",
      "----------------------------------------\n",
      "Model: jinaai__jina-embeddings-v3\n",
      "\n",
      "Top-5 Cevap Adayları:\n",
      "  1. [0.5935] Güney Ontario'dan Kuzey Amerika, batıdan güneydoğuya Güney Dakota, güneyden Georgia'ya, kuzey Florida'dan ve güneybatıdan Teksas'ın merkezine.\n",
      "  2. [0.5839] Yerli alabalık doğu Kuzey Amerika'da, kuzeydoğu Kanada'dan ve doğu kıyısının aşağısında, birçok yüksek rakımlı akarsuda bulundukları Amerika Birleşik Devletleri'ndeki Georgia eyaletine kadar güneyde bulunabilir. Bu bölgelere özgü olmasına rağmen, dere alabalığı, popülasyonların kuluçkahaneler tarafından yönetildiği ve yerel balıkçılığa stoklandığı dünyanın geri kalanında da bulunabilir.\n",
      "  3. [0.5331] [Niagara],[Ontario],[Kanada],[Lincoln County],[Grantham],[Niagara-on-the-Lake],[St. Catharines]\n",
      "  4. [0.5220] Düz yüzlü herhangi bir düşük demir (1 ila 4) veya çimenli ağaç.\n",
      "  5. [0.5152] Kanada, Amerika'nın kuzey komşusudur\n",
      "\n",
      "Top-1 Cevap: [0.5935] Güney Ontario'dan Kuzey Amerika, batıdan güneydoğuya Güney Dakota, güneyden Georgia'ya, kuzey Florida'dan ve güneybatıdan Teksas'ın merkezine.\n",
      "\n",
      "----------------------------------------\n",
      "Model: intfloat__multilingual-e5-large-instruct\n",
      "\n",
      "Top-5 Cevap Adayları:\n",
      "  1. [0.8611] Güney Ontario'dan Kuzey Amerika, batıdan güneydoğuya Güney Dakota, güneyden Georgia'ya, kuzey Florida'dan ve güneybatıdan Teksas'ın merkezine.\n",
      "  2. [0.8586] Yerli alabalık doğu Kuzey Amerika'da, kuzeydoğu Kanada'dan ve doğu kıyısının aşağısında, birçok yüksek rakımlı akarsuda bulundukları Amerika Birleşik Devletleri'ndeki Georgia eyaletine kadar güneyde bulunabilir. Bu bölgelere özgü olmasına rağmen, dere alabalığı, popülasyonların kuluçkahaneler tarafından yönetildiği ve yerel balıkçılığa stoklandığı dünyanın geri kalanında da bulunabilir.\n",
      "  3. [0.8479] Yenidünya (Eriobotrya japonica), turuncu meyvesi ve bitki çayı yapmak için kullanılan yaprakları için ticari olarak yetiştirilen büyük, yaprak dökmeyen bir çalı veya ağaçtır. Süs bitkisi olarak da yetiştirilmektedir.\n",
      "\n",
      "Yenidünya, Rosaceae familyasındandır ve güney-orta Çin'in daha serin tepelik bölgelerine özgüdür.[2][3] Japonya'da yenidünya biwa (枇杷, びわ) olarak bilinir ve 1000 yılı aşkın bir süredir yetiştirilmektedir. Yenidünya, dünya çapında subtropikal ila ılıman ılıman iklimlere sahip bölgelere tanıtıldı.[4][5]\n",
      "\n",
      "Eriobotrya japonica'nın eskiden Mespilus cinsiyle yakından ilişkili olduğu düşünülüyordu ve hala bazen yanlışlıkla Japon muşmulası olarak biliniyor. Japon eriği[6] ve Çin eriği[7] yanı sıra Çin'de pipa, Malta'da naspli, Hindistan'da lukaat, Sri Lanka'da lucat veya loket, İspanya'da níspero, Portekiz'de nêspera, İsrail'de shések olarak da bilinir. , Lübnan'da akidéné, Kisii'de ebirangweti, İtalya'da nespolo (adın Mespilus germanica ile paylaşıldığı yer) ve İran'da golabi jangali (orman armutu).\n",
      "  4. [0.8419] Caltha scaposa, bir veya iki sarı hermafrodit tabak şeklinde çiçeğe sahip, kısa, çok yıllık bir bitkidir. Bu bataklık-kadife çiçeği türü, düğün çiçeği ailesine aittir, nemli dağlık alanlarda yetişir ve doğu Himalayalar'a ve Tibet yaylalarının doğu sınırındaki dağlara özgüdür.\n",
      "  5. [0.8419] Kuş otu, semizotu, karahindiba ve kuzu dörttesi dahil olmak üzere birçok yenilebilir bitki insan müdahalesi olmadan Maryland'de iyi yetişir. Bu bitkilerin tümü, tipik bir banliyö bahçesinde veya boş arsada gönüllü olabilir ve sulanmadan veya bakılmadan büyüyecektir. Hepsi yenilebilir ve besleyicidir.\n",
      "\n",
      "Top-1 Cevap: [0.8611] Güney Ontario'dan Kuzey Amerika, batıdan güneydoğuya Güney Dakota, güneyden Georgia'ya, kuzey Florida'dan ve güneybatıdan Teksas'ın merkezine.\n",
      "\n",
      "----------------------------------------\n",
      "Model: BAAI__bge-m3\n",
      "\n",
      "Top-5 Cevap Adayları:\n",
      "  1. [0.6189] Yerli alabalık doğu Kuzey Amerika'da, kuzeydoğu Kanada'dan ve doğu kıyısının aşağısında, birçok yüksek rakımlı akarsuda bulundukları Amerika Birleşik Devletleri'ndeki Georgia eyaletine kadar güneyde bulunabilir. Bu bölgelere özgü olmasına rağmen, dere alabalığı, popülasyonların kuluçkahaneler tarafından yönetildiği ve yerel balıkçılığa stoklandığı dünyanın geri kalanında da bulunabilir.\n",
      "  2. [0.5361] Kanada, Kuzey Amerika'dadır ve üç bölgede organize edilmiş on eyalete sahiptir. Pasifik, Atlantik ve Kuzey Kutbu dahil olmak üzere üç okyanusa yatılı. Kara kütlesi bakımından en büyük ülkelerden biri olmasına rağmen, nüfusu seyrektir.\n",
      "  3. [0.5311] Siyah pirinç, mor veya yasak pirinç olarak da bilinir ve en yapışkan pirinçlerden bazıları olan Oryza sativa'nın bir aralığıdır. Pişirildiğinde, siyah pirinç genellikle koyu mor olur. Günümüzde Endonezya siyah pirinci, Filipin yadigarı siyah pirinç ve Tay yasemin siyah pirinci dahil olmak üzere birkaç çeşit siyah pirinç bulunmaktadır. Hindistan'da siyah pirinç chak-hao olarak bilinir. Bangladeş'te tatlı yapmak için siyah pirinç kullanılır.\n",
      "  4. [0.5243] Yenidünya (Eriobotrya japonica), turuncu meyvesi ve bitki çayı yapmak için kullanılan yaprakları için ticari olarak yetiştirilen büyük, yaprak dökmeyen bir çalı veya ağaçtır. Süs bitkisi olarak da yetiştirilmektedir.\n",
      "\n",
      "Yenidünya, Rosaceae familyasındandır ve güney-orta Çin'in daha serin tepelik bölgelerine özgüdür.[2][3] Japonya'da yenidünya biwa (枇杷, びわ) olarak bilinir ve 1000 yılı aşkın bir süredir yetiştirilmektedir. Yenidünya, dünya çapında subtropikal ila ılıman ılıman iklimlere sahip bölgelere tanıtıldı.[4][5]\n",
      "\n",
      "Eriobotrya japonica'nın eskiden Mespilus cinsiyle yakından ilişkili olduğu düşünülüyordu ve hala bazen yanlışlıkla Japon muşmulası olarak biliniyor. Japon eriği[6] ve Çin eriği[7] yanı sıra Çin'de pipa, Malta'da naspli, Hindistan'da lukaat, Sri Lanka'da lucat veya loket, İspanya'da níspero, Portekiz'de nêspera, İsrail'de shések olarak da bilinir. , Lübnan'da akidéné, Kisii'de ebirangweti, İtalya'da nespolo (adın Mespilus germanica ile paylaşıldığı yer) ve İran'da golabi jangali (orman armutu).\n",
      "  5. [0.5232] Güney Ontario'dan Kuzey Amerika, batıdan güneydoğuya Güney Dakota, güneyden Georgia'ya, kuzey Florida'dan ve güneybatıdan Teksas'ın merkezine.\n",
      "\n",
      "Top-1 Cevap: [0.6189] Yerli alabalık doğu Kuzey Amerika'da, kuzeydoğu Kanada'dan ve doğu kıyısının aşağısında, birçok yüksek rakımlı akarsuda bulundukları Amerika Birleşik Devletleri'ndeki Georgia eyaletine kadar güneyde bulunabilir. Bu bölgelere özgü olmasına rağmen, dere alabalığı, popülasyonların kuluçkahaneler tarafından yönetildiği ve yerel balıkçılığa stoklandığı dünyanın geri kalanında da bulunabilir.\n",
      "\n",
      "----------------------------------------\n",
      "Model: ytu-ce-cosmos__turkish-colbert\n",
      "\n",
      "Top-5 Cevap Adayları:\n",
      "  1. [0.8756] Caltha scaposa, bir veya iki sarı hermafrodit tabak şeklinde çiçeğe sahip, kısa, çok yıllık bir bitkidir. Bu bataklık-kadife çiçeği türü, düğün çiçeği ailesine aittir, nemli dağlık alanlarda yetişir ve doğu Himalayalar'a ve Tibet yaylalarının doğu sınırındaki dağlara özgüdür.\n",
      "  2. [0.8745] Zigalga Ulusal Parkı, topraklarının çoğuna insan faaliyetinin dokunmadığı bir alana sahiptir ve çam ve huş ağacı ormanı, koyu iğne yapraklı tayga, alpin çayırları ve dağ tundrasını içerir.\n",
      "  3. [0.8649] Yenidünya (Eriobotrya japonica), turuncu meyvesi ve bitki çayı yapmak için kullanılan yaprakları için ticari olarak yetiştirilen büyük, yaprak dökmeyen bir çalı veya ağaçtır. Süs bitkisi olarak da yetiştirilmektedir.\n",
      "\n",
      "Yenidünya, Rosaceae familyasındandır ve güney-orta Çin'in daha serin tepelik bölgelerine özgüdür.[2][3] Japonya'da yenidünya biwa (枇杷, びわ) olarak bilinir ve 1000 yılı aşkın bir süredir yetiştirilmektedir. Yenidünya, dünya çapında subtropikal ila ılıman ılıman iklimlere sahip bölgelere tanıtıldı.[4][5]\n",
      "\n",
      "Eriobotrya japonica'nın eskiden Mespilus cinsiyle yakından ilişkili olduğu düşünülüyordu ve hala bazen yanlışlıkla Japon muşmulası olarak biliniyor. Japon eriği[6] ve Çin eriği[7] yanı sıra Çin'de pipa, Malta'da naspli, Hindistan'da lukaat, Sri Lanka'da lucat veya loket, İspanya'da níspero, Portekiz'de nêspera, İsrail'de shések olarak da bilinir. , Lübnan'da akidéné, Kisii'de ebirangweti, İtalya'da nespolo (adın Mespilus germanica ile paylaşıldığı yer) ve İran'da golabi jangali (orman armutu).\n",
      "  4. [0.8548] Crawshay'ın safiri Iolaus crawshayi, Lycaenidae familyasından bir kelebektir. Etiyopya, Somali, Kenya, Uganda, Demokratik Kongo Cumhuriyeti ve Tanzanya'da bulunur.\n",
      "Yaşam alanı nemli savanadan oluşur.\n",
      "\n",
      "Larvalar, Erianthemum dregei ve Phragmanthera usuiensis'in genç yapraklarıyla beslenir. Donuk kirli beyazımsı yeşil veya kahverengidirler.\n",
      "  5. [0.8435] Amazon ormanı Güney Amerika'da yer almaktadır. Brezilya, Peru, Kolombiya, Bolivya ve Ekvador'a yayılmıştır.\n",
      "\n",
      "Top-1 Cevap: [0.8756] Caltha scaposa, bir veya iki sarı hermafrodit tabak şeklinde çiçeğe sahip, kısa, çok yıllık bir bitkidir. Bu bataklık-kadife çiçeği türü, düğün çiçeği ailesine aittir, nemli dağlık alanlarda yetişir ve doğu Himalayalar'a ve Tibet yaylalarının doğu sınırındaki dağlara özgüdür.\n",
      "\n",
      "----------------------------------------\n"
     ]
    }
   ],
   "source": [
    "# Örnek bir soru için indeks seçimi\n",
    "example_question_index = 0\n",
    "example_question_text = df_sample.iloc[example_question_index]['soru']\n",
    "example_correct_answer = df_sample.iloc[example_question_index]['cevap']\n",
    "\n",
    "# Her model için cevap adaylarını gösterimi\n",
    "print(f\"Örnek Soru: {example_question_text}\")\n",
    "print(f\"Gerçek Cevap: {example_correct_answer}\\n\")\n",
    "print(\"-\" * 80)\n",
    "\n",
    "for model_name in model_files:\n",
    "    print(f\"Model: {model_name}\\n\")\n",
    "\n",
    "    # Embedding'leri yükleme\n",
    "    question_embeddings, answer_embeddings = load_embeddings(model_name)\n",
    "\n",
    "    # Örnek sorunun embedding'i\n",
    "    question_embedding = question_embeddings[example_question_index].reshape(1, -1)\n",
    "\n",
    "    # Tüm cevap embedding'leri ile cosine similarity hesaplama\n",
    "    similarity_scores = cosine_similarity(question_embedding, answer_embeddings).flatten()\n",
    "\n",
    "    sorted_indices = np.argsort(similarity_scores)[::-1]\n",
    "    top5_indices = sorted_indices[:5]\n",
    "\n",
    "    print(\"Top-5 Cevap Adayları:\")\n",
    "    for rank, idx in enumerate(top5_indices, 1):\n",
    "        candidate_answer = df_sample.iloc[idx]['cevap']\n",
    "        similarity_score = similarity_scores[idx]\n",
    "        print(f\"  {rank}. [{similarity_score:.4f}] {candidate_answer}\")\n",
    "\n",
    "    top1_index = sorted_indices[0]\n",
    "    top1_candidate = df_sample.iloc[top1_index]['cevap']\n",
    "    print(f\"\\nTop-1 Cevap: [{similarity_scores[top1_index]:.4f}] {top1_candidate}\\n\")\n",
    "    print(\"-\" * 40)"
   ]
  },
  {
   "cell_type": "markdown",
   "id": "DtMytg6lWKhU",
   "metadata": {
    "id": "DtMytg6lWKhU"
   },
   "source": [
    "#### Calculate all cosine similarity for all embedding models"
   ]
  },
  {
   "cell_type": "code",
   "execution_count": 9,
   "id": "8yRKszOjU9-M",
   "metadata": {
    "colab": {
     "base_uri": "https://localhost:8080/"
    },
    "executionInfo": {
     "elapsed": 4829,
     "status": "ok",
     "timestamp": 1734467654093,
     "user": {
      "displayName": "Ahmed Ugur",
      "userId": "07278114889288036484"
     },
     "user_tz": -180
    },
    "id": "8yRKszOjU9-M",
    "outputId": "6460655a-d73a-4dca-c31b-e6ef5f9a236a"
   },
   "outputs": [
    {
     "name": "stdout",
     "output_type": "stream",
     "text": [
      "Cosine similarity hesaplanıyor...\n",
      "Cosine similarity hesaplandı ve pickle dosyasına kaydedildi.\n"
     ]
    }
   ],
   "source": [
    "# Tüm embeddingler için cosine similarity hesapla\n",
    "cosine_similarity_data = compute_cosine_similarity()"
   ]
  },
  {
   "cell_type": "markdown",
   "id": "fe3150ac-d569-40fe-82ff-6fb487057482",
   "metadata": {
    "id": "yhqNIr2xPPlf"
   },
   "source": [
    "### Result & Conclusion"
   ]
  },
  {
   "cell_type": "markdown",
   "id": "MaR_GK0eP9rP",
   "metadata": {
    "id": "MaR_GK0eP9rP"
   },
   "source": [
    "#### All Embedding Model: Accuracy and Error"
   ]
  },
  {
   "cell_type": "code",
   "execution_count": 10,
   "id": "vMM9wcs-BpaQ",
   "metadata": {
    "colab": {
     "base_uri": "https://localhost:8080/"
    },
    "executionInfo": {
     "elapsed": 10186,
     "status": "ok",
     "timestamp": 1734514422830,
     "user": {
      "displayName": "Ahmed Ugur",
      "userId": "07278114889288036484"
     },
     "user_tz": -180
    },
    "id": "vMM9wcs-BpaQ",
    "outputId": "af2f1b69-f18d-4340-f2b8-7f10b970d3f8"
   },
   "outputs": [
    {
     "name": "stdout",
     "output_type": "stream",
     "text": [
      "Model Name                                    Top-1 Accuracy  Top-5 Accuracy  Top-1 Errors         Top-5 Errors        \n",
      "------------------------------------------------------------------------------------------------------------------------\n",
      "sentence-transformers__all-MiniLM-L12-v2      0.4850          0.6015          1030   (51.50%)     797    (39.85%)\n",
      "jinaai__jina-embeddings-v3                    0.8665          0.9485          267    (13.35%)     103    (5.15%)\n",
      "intfloat__multilingual-e5-large-instruct      0.7530          0.8805          494    (24.70%)     239    (11.95%)\n",
      "BAAI__bge-m3                                  0.8020          0.8835          396    (19.80%)     233    (11.65%)\n",
      "ytu-ce-cosmos__turkish-colbert                0.4150          0.5595          1170   (58.50%)     881    (44.05%)\n"
     ]
    }
   ],
   "source": [
    "# Her modelin Top-1 ve Top-5 performanslarını saklamak için\n",
    "model_results = {}\n",
    "\n",
    "print(f\"{'Model Name':<45} {'Top-1 Accuracy':<15} {'Top-5 Accuracy':<15} {'Top-1 Errors':<20} {'Top-5 Errors':<20}\")\n",
    "print(\"-\" * 120)\n",
    "\n",
    "for model_name in model_files:\n",
    "    # Embedding'leri yükleme\n",
    "    question_embeddings, answer_embeddings = load_embeddings(model_name)\n",
    "\n",
    "    # Daha önce hesaplanan cosine similarity matrisini yükle\n",
    "    similarity_matrix = cosine_similarity_data[model_name]\n",
    "\n",
    "    # Top-1, Top-5 doğruluk ve hata hesaplama\n",
    "    top1_correct, top5_correct = 0, 0\n",
    "    top1_errors, top5_errors = 0, 0\n",
    "    total_questions = len(similarity_matrix)\n",
    "\n",
    "    for idx, row in enumerate(similarity_matrix):\n",
    "        sorted_indices = np.argsort(row)[::-1]  # Büyükten küçüğe sıralama\n",
    "        correct_answer_idx = idx  # Her sorunun doğru cevabı aynı indeksde yer alıyor\n",
    "\n",
    "        # Top-1 doğruluk kontrolü (cevap ilk sırada mı?)\n",
    "        if correct_answer_idx == sorted_indices[0]:\n",
    "            top1_correct += 1\n",
    "        else:\n",
    "            top1_errors += 1  # Top-1 hatası\n",
    "\n",
    "        # Top-5 doğruluk kontrolü (cevap ilk 5'te mi?)\n",
    "        if correct_answer_idx in sorted_indices[:5]:\n",
    "            top5_correct += 1\n",
    "        else:\n",
    "            top5_errors += 1  # Top-5 hatası\n",
    "\n",
    "    top1_accuracy = top1_correct / total_questions\n",
    "    top5_accuracy = top5_correct / total_questions\n",
    "\n",
    "    top1_error_percentage = (top1_errors / total_questions) * 100\n",
    "    top5_error_percentage = (top5_errors / total_questions) * 100\n",
    "\n",
    "    model_results[model_name] = {\n",
    "        \"Top-1 Accuracy\": top1_accuracy,\n",
    "        \"Top-5 Accuracy\": top5_accuracy,\n",
    "        \"Top-1 Errors\": top1_errors,\n",
    "        \"Top-5 Errors\": top5_errors,\n",
    "        \"Top-1 Error %\": top1_error_percentage,\n",
    "        \"Top-5 Error %\": top5_error_percentage\n",
    "    }\n",
    "    # print(f\"{model_name} - Top-1 Accuracy: {top1_accuracy:.4f}, Top-5 Accuracy: {top5_accuracy:.4f}\")\n",
    "    print(f\"{model_name:<45} {top1_accuracy:<15.4f} {top5_accuracy:<15.4f} \"\n",
    "          f\"{top1_errors:<6} ({top1_error_percentage:>4.2f}%)     {top5_errors:<6} ({top5_error_percentage:>4.2f}%)\")"
   ]
  },
  {
   "cell_type": "markdown",
   "id": "pFEkHEw8QNNJ",
   "metadata": {
    "id": "pFEkHEw8QNNJ"
   },
   "source": [
    "#### Graph: Compare All Embedding Model's Accuracy"
   ]
  },
  {
   "cell_type": "code",
   "execution_count": 11,
   "id": "igOqKowvBpWi",
   "metadata": {
    "colab": {
     "base_uri": "https://localhost:8080/",
     "height": 607
    },
    "executionInfo": {
     "elapsed": 370,
     "status": "ok",
     "timestamp": 1734516561292,
     "user": {
      "displayName": "Ahmed Ugur",
      "userId": "07278114889288036484"
     },
     "user_tz": -180
    },
    "id": "igOqKowvBpWi",
    "outputId": "7cdde587-a0c0-4e9b-f242-462409cbcfce"
   },
   "outputs": [
    {
     "data": {
      "image/png": "[encoded data removed]",
      "text/plain": [
       "<Figure size 1000x600 with 1 Axes>"
      ]
     },
     "metadata": {},
     "output_type": "display_data"
    }
   ],
   "source": [
    "results_df = pd.DataFrame(model_results).T  # Transpose yaparak modelleri satır haline getir\n",
    "results_df.reset_index(inplace=True)\n",
    "results_df.rename(columns={\"index\": \"Model\"}, inplace=True)\n",
    "\n",
    "# Model isimlerini kısaltmak için\n",
    "results_df['Embedding Modelleri'] = results_df['Model'].map(model_name_mapping)\n",
    "\n",
    "ax = results_df.plot(\n",
    "    x=\"Embedding Modelleri\",\n",
    "    y=[\"Top-1 Accuracy\", \"Top-5 Accuracy\"],\n",
    "    kind=\"bar\",\n",
    "    figsize=(10, 6),\n",
    "    legend=True\n",
    ")\n",
    "\n",
    "plt.title(\"Model Performansları\")\n",
    "plt.ylabel(\"Accuracy\")\n",
    "plt.xticks(rotation=45)\n",
    "plt.yticks(np.arange(0.0, 1.1, 0.1))\n",
    "\n",
    "# Barların üzerinde değerleri ekleme\n",
    "for container in ax.containers:\n",
    "    for bar in container:\n",
    "        height = bar.get_height()\n",
    "        ax.text(\n",
    "            bar.get_x() + bar.get_width() / 2,\n",
    "            height + 0.02,\n",
    "            f\"{height:.2f}\",\n",
    "            ha='center',\n",
    "            va='bottom',\n",
    "            fontsize=9\n",
    "        )\n",
    "\n",
    "plt.tight_layout()\n",
    "plt.show()"
   ]
  },
  {
   "cell_type": "markdown",
   "id": "E-9XjpiGQXtj",
   "metadata": {
    "id": "E-9XjpiGQXtj"
   },
   "source": [
    "#### All Ensemble Methods Accuracy"
   ]
  },
  {
   "cell_type": "markdown",
   "id": "599c416b",
   "metadata": {},
   "source": [
    "### 1. Majority Voting\n",
    "\n",
    "Her bir örnek soru için tekil modelin Top-1 ve Top-5 cevap adayı listelerine bakılır, her bir listedeki aday diğer modellerin de listelerinde yer alıyorsa oyu 1 artırılır. En yüksek oya sahip cevap adayı ensemble sonucu olarak belirlenir.\n",
    "\n",
    "$$\n",
    "\\begin{equation}\n",
    "\\tag{1}\n",
    "\\quad \\hat{y}_= \\text{argmax}_i \\Big( \\sum_{j=1}^M \\mathbb{1}[i \\in \\text{Top-X}_j] \\Big) \\\\\n",
    "\\end{equation}\n",
    "$$\n",
    "\n",
    "$ \\mathbb{1}[i \\in \\text{Top-5}_j] $ : i'inci cevabın j'inci modelin Top-X tahmininde olup olmadığını kontrol eden gösterge fonksiyonu ifade eder. 1 ise var, 0 ise yoktur.\n",
    "\n",
    "---\n",
    "\n",
    "### 2. Average Cosine Similarity\n",
    "\n",
    "Her bir tekil modelin her bir cevaba ilişkin hesapladığı cosinüs benzerliklerinin ortalaması alınır. En yüksek ortalamaya ait ilk cevap Top-1, ilk 5 cevap ise Top-5 ensemble sonucu olarak belirlenir. \n",
    "\n",
    "$$\n",
    "\\begin{equation}\n",
    "\\tag{2}\n",
    "\\quad \\hat{y} = \\text{argmax}_i \\Big( \\frac{1}{M} \\sum_{j=1}^M S_{ij} \\Big) \\\\\n",
    "\\end{equation}\n",
    "$$\n",
    "\n",
    "$ S_{ij} $ : \"j-inci model tarafından i-inci cevap için hesaplanan cosine similarity skorudur.\n",
    "\n",
    "---\n",
    "\n",
    "### 3. Weighted Cosine Similarity\n",
    "\n",
    "Her bir tekil modelin Top-1 doğruluk oranları normalize edilerek toplam 5 farklı modele ait elde edilen değerler toplamı 1 olacak şekilde $ w{_j} $ olarak ağırlıklandırılmıştır. Model kararlarını birleştirirken tekil başarısı daha yüksek olan modelin ağırlığı daha yüksek olduğu için karara olan etkisi daha fazla olacaktır.\n",
    "\n",
    "Tüm modellerin cosinüs benzerlikleri kendi ağırlıkları ile çarpıldığında en yüksek skora sahip ilk cevap Top-1, ilk 5 cevap ise Top-5 ensemble sonucu olarak belirlenir. \n",
    "\n",
    "$$\n",
    "\\begin{equation}\n",
    "\\tag{3}\n",
    "\\quad \\hat{y} = \\text{argmax}_i \\Big( \\sum_{j=1}^M w_j \\cdot S_{ij} \\Big) \\\\\n",
    "\\end{equation}\n",
    "$$\n",
    "\n",
    "$ w{_j} $ : j-inci modelin ağırlığını ifade etmektedir. (j-inci modelin tekil Top-1 doğruluğunun normalize edilmiş hali)\n",
    "\n",
    "$ S_{ij} $ : j-inci model tarafından i-inci cevap için hesaplanan cosine similarity skorudur."
   ]
  },
  {
   "cell_type": "code",
   "execution_count": 12,
   "id": "ec4046c5",
   "metadata": {
    "colab": {
     "base_uri": "https://localhost:8080/"
    },
    "executionInfo": {
     "elapsed": 2649,
     "status": "ok",
     "timestamp": 1734515746165,
     "user": {
      "displayName": "Ahmed Ugur",
      "userId": "07278114889288036484"
     },
     "user_tz": -180
    },
    "id": "ec4046c5",
    "outputId": "93c01b32-83c4-45b4-d862-768e2542bdbf"
   },
   "outputs": [
    {
     "name": "stdout",
     "output_type": "stream",
     "text": [
      "Ensemble Performans Sonuçları\n",
      "\n",
      "Ensemble Method Name           Top-1 Accuracy  Top-5 Accuracy \n",
      "------------------------------------------------------------\n",
      "Majority Voting                0.7665          0.9580         \n",
      "Average Cosine                 0.8080          0.8915         \n",
      "Weighted Average               0.8240          0.9095         \n"
     ]
    }
   ],
   "source": [
    "from collections import Counter\n",
    "\n",
    "# Ensemble sonuçlarını saklamak için\n",
    "ensemble_results = {\n",
    "    \"Majority Voting\": {\"Top-1\": 0, \"Top-5\": 0},\n",
    "    \"Average Cosine\": {\"Top-1\": 0, \"Top-5\": 0},\n",
    "    \"Weighted Average\": {\"Top-1\": 0, \"Top-5\": 0}\n",
    "}\n",
    "\n",
    "# Model ağırlıklarını tekil performanslardan (Top-1 Accuracy) hesaplama: 3.ensemble yöntemi için\n",
    "top1_accuracies = {model: result[\"Top-1 Accuracy\"] for model, result in model_results.items()}\n",
    "# Ağırlıkları normalleştiriyoruz (Toplam ağırlık = 1 olacak şekilde)\n",
    "total_accuracy = sum(top1_accuracies.values())\n",
    "model_weights = {model: accuracy / total_accuracy for model, accuracy in top1_accuracies.items()}\n",
    "\n",
    "# Ensemble hesaplama\n",
    "for idx in range(len(df_sample)):\n",
    "    # Her modelin benzerlik skorlarını ve sıralamalarını sakla\n",
    "    all_similarities = []\n",
    "    all_top5_candidates = []\n",
    "\n",
    "    for model_name, similarity_matrix in cosine_similarity_data.items():\n",
    "        row = similarity_matrix[idx]  # İlgili sorunun tüm cevaplarla benzerlik skorları\n",
    "        sorted_indices = np.argsort(row)[::-1]\n",
    "\n",
    "        # Top-5 adayları ve skorları\n",
    "        all_top5_candidates.append(sorted_indices[:5])\n",
    "        all_similarities.append(row)\n",
    "\n",
    "    # Gerçek cevap indeksi\n",
    "    correct_answer_idx = idx\n",
    "\n",
    "    # Ensemble 1: Majority Voting\n",
    "\n",
    "    flattened_top5 = [idx for sublist in all_top5_candidates for idx in sublist]\n",
    "    most_common = Counter(flattened_top5).most_common(1)[0][0]  # En sık geçen cevap\n",
    "    if most_common == correct_answer_idx:\n",
    "        ensemble_results[\"Majority Voting\"][\"Top-1\"] += 1\n",
    "    if correct_answer_idx in Counter(flattened_top5).keys():\n",
    "        ensemble_results[\"Majority Voting\"][\"Top-5\"] += 1\n",
    "\n",
    "    # Ensemble 2: Average Cosine Similarity\n",
    "    avg_scores = np.mean(all_similarities, axis=0)\n",
    "    avg_sorted_indices = np.argsort(avg_scores)[::-1]\n",
    "    if avg_sorted_indices[0] == correct_answer_idx:\n",
    "        ensemble_results[\"Average Cosine\"][\"Top-1\"] += 1\n",
    "    if correct_answer_idx in avg_sorted_indices[:5]:\n",
    "        ensemble_results[\"Average Cosine\"][\"Top-5\"] += 1\n",
    "\n",
    "    # Ensemble 3: Weighted Cosine Similarity\n",
    "    weighted_scores = sum(\n",
    "        model_weights[model_files[i]] * all_similarities[i] for i in range(len(model_files))\n",
    "    )\n",
    "    weighted_sorted_indices = np.argsort(weighted_scores)[::-1]\n",
    "    if weighted_sorted_indices[0] == correct_answer_idx:\n",
    "        ensemble_results[\"Weighted Average\"][\"Top-1\"] += 1\n",
    "    if correct_answer_idx in weighted_sorted_indices[:5]:\n",
    "        ensemble_results[\"Weighted Average\"][\"Top-5\"] += 1\n",
    "\n",
    "# Ensemble doğruluk oranlarını hesapla\n",
    "for method, results in ensemble_results.items():\n",
    "    results[\"Top-1 Accuracy\"] = results[\"Top-1\"] / len(df_sample)\n",
    "    results[\"Top-5 Accuracy\"] = results[\"Top-5\"] / len(df_sample)\n",
    "\n",
    "print(\"Ensemble Performans Sonuçları\\n\")\n",
    "print(f\"{'Ensemble Method Name':<30} {'Top-1 Accuracy':<15} {'Top-5 Accuracy':<15}\")\n",
    "print(\"-\" * 60)\n",
    "for method, results in ensemble_results.items():\n",
    "    print(f\"{method:<30} {results['Top-1 Accuracy']:<15.4f} {results['Top-5 Accuracy']:<15.4f}\")"
   ]
  },
  {
   "cell_type": "markdown",
   "id": "Np1dQ4qCQmmr",
   "metadata": {
    "id": "Np1dQ4qCQmmr"
   },
   "source": [
    "#### Select a sample index for question. Explain to calculate top-1 and top-5 performance with 3 different ensemble methods"
   ]
  },
  {
   "cell_type": "code",
   "execution_count": 13,
   "id": "c6b1ae90",
   "metadata": {
    "colab": {
     "base_uri": "https://localhost:8080/"
    },
    "executionInfo": {
     "elapsed": 345,
     "status": "ok",
     "timestamp": 1734515761647,
     "user": {
      "displayName": "Ahmed Ugur",
      "userId": "07278114889288036484"
     },
     "user_tz": -180
    },
    "id": "c6b1ae90",
    "outputId": "7a0d80ac-0ca0-495d-f92a-662ddc083087"
   },
   "outputs": [
    {
     "name": "stdout",
     "output_type": "stream",
     "text": [
      "Örnek Soru: Kara ceviz ağaçları nerede yetişir? Doğu Amerika kara cevizi olan Juglans nigra, Kuzey Amerika'ya özgü Juglandaceae ceviz ailesindeki yaprak döken bir ağaç türüdür. Çoğunlukla güney Ontario'dan, batıdan güneydoğuya Güney Dakota'ya, güneyden Georgia'ya, kuzey Florida'ya ve güneybatıdan Teksas'ın merkezine kadar nehir kıyısındaki bölgelerde yetişir. Yukarı Ottawa Vadisi'ndeki yabani ağaçlar, izole edilmiş bir yerli popülasyon olabilir veya dikilmiş ağaçlardan türemiş olabilir.\n",
      "Gerçek Cevap: Güney Ontario'dan Kuzey Amerika, batıdan güneydoğuya Güney Dakota, güneyden Georgia'ya, kuzey Florida'dan ve güneybatıdan Teksas'ın merkezine.\n",
      "\n",
      "Ensemble Yöntemlerinin Top-1 Cevapları:\n",
      "\n",
      "Majority Voting Cevabı:\n",
      "  [Frekans: 4] Yerli alabalık doğu Kuzey Amerika'da, kuzeydoğu Kanada'dan ve doğu kıyısının aşağısında, birçok yüksek rakımlı akarsuda bulundukları Amerika Birleşik Devletleri'ndeki Georgia eyaletine kadar güneyde bulunabilir. Bu bölgelere özgü olmasına rağmen, dere alabalığı, popülasyonların kuluçkahaneler tarafından yönetildiği ve yerel balıkçılığa stoklandığı dünyanın geri kalanında da bulunabilir.\n",
      "\n",
      "Average Cosine Similarity Cevabı:\n",
      "  [Benzerlik (Avg): 0.7165] Yerli alabalık doğu Kuzey Amerika'da, kuzeydoğu Kanada'dan ve doğu kıyısının aşağısında, birçok yüksek rakımlı akarsuda bulundukları Amerika Birleşik Devletleri'ndeki Georgia eyaletine kadar güneyde bulunabilir. Bu bölgelere özgü olmasına rağmen, dere alabalığı, popülasyonların kuluçkahaneler tarafından yönetildiği ve yerel balıkçılığa stoklandığı dünyanın geri kalanında da bulunabilir.\n",
      "\n",
      "Weighted Average Cevabı:\n",
      "  [Benzerlik (Weighted): 0.7008] Yerli alabalık doğu Kuzey Amerika'da, kuzeydoğu Kanada'dan ve doğu kıyısının aşağısında, birçok yüksek rakımlı akarsuda bulundukları Amerika Birleşik Devletleri'ndeki Georgia eyaletine kadar güneyde bulunabilir. Bu bölgelere özgü olmasına rağmen, dere alabalığı, popülasyonların kuluçkahaneler tarafından yönetildiği ve yerel balıkçılığa stoklandığı dünyanın geri kalanında da bulunabilir.\n",
      "\n",
      "Ensemble Yöntemlerinin Top-5 Cevapları ve Skorları:\n",
      "\n",
      "Majority Voting Top-5 Cevaplar:\n",
      "  1. [Frekans: 4] Yerli alabalık doğu Kuzey Amerika'da, kuzeydoğu Kanada'dan ve doğu kıyısının aşağısında, birçok yüksek rakımlı akarsuda bulundukları Amerika Birleşik Devletleri'ndeki Georgia eyaletine kadar güneyde bulunabilir. Bu bölgelere özgü olmasına rağmen, dere alabalığı, popülasyonların kuluçkahaneler tarafından yönetildiği ve yerel balıkçılığa stoklandığı dünyanın geri kalanında da bulunabilir.\n",
      "  2. [Frekans: 4] Güney Ontario'dan Kuzey Amerika, batıdan güneydoğuya Güney Dakota, güneyden Georgia'ya, kuzey Florida'dan ve güneybatıdan Teksas'ın merkezine.\n",
      "  3. [Frekans: 3] Yenidünya (Eriobotrya japonica), turuncu meyvesi ve bitki çayı yapmak için kullanılan yaprakları için ticari olarak yetiştirilen büyük, yaprak dökmeyen bir çalı veya ağaçtır. Süs bitkisi olarak da yetiştirilmektedir.\n",
      "\n",
      "Yenidünya, Rosaceae familyasındandır ve güney-orta Çin'in daha serin tepelik bölgelerine özgüdür.[2][3] Japonya'da yenidünya biwa (枇杷, びわ) olarak bilinir ve 1000 yılı aşkın bir süredir yetiştirilmektedir. Yenidünya, dünya çapında subtropikal ila ılıman ılıman iklimlere sahip bölgelere tanıtıldı.[4][5]\n",
      "\n",
      "Eriobotrya japonica'nın eskiden Mespilus cinsiyle yakından ilişkili olduğu düşünülüyordu ve hala bazen yanlışlıkla Japon muşmulası olarak biliniyor. Japon eriği[6] ve Çin eriği[7] yanı sıra Çin'de pipa, Malta'da naspli, Hindistan'da lukaat, Sri Lanka'da lucat veya loket, İspanya'da níspero, Portekiz'de nêspera, İsrail'de shések olarak da bilinir. , Lübnan'da akidéné, Kisii'de ebirangweti, İtalya'da nespolo (adın Mespilus germanica ile paylaşıldığı yer) ve İran'da golabi jangali (orman armutu).\n",
      "  4. [Frekans: 2] Caltha scaposa, bir veya iki sarı hermafrodit tabak şeklinde çiçeğe sahip, kısa, çok yıllık bir bitkidir. Bu bataklık-kadife çiçeği türü, düğün çiçeği ailesine aittir, nemli dağlık alanlarda yetişir ve doğu Himalayalar'a ve Tibet yaylalarının doğu sınırındaki dağlara özgüdür.\n",
      "  5. [Frekans: 1] Karadeniz, Avrupa ile Asya arasında, Balkanların doğusunda, Doğu Avrupa Ovası'nın güneyinde, Kafkasya'nın batısında ve Anadolu'nun kuzeyinde yer alır. Bulgaristan, Gürcistan, Romanya, Rusya, Türkiye ve Ukrayna ile çevrilidir.\n",
      "\n",
      "Average Cosine Top-5 Cevaplar:\n",
      "  1. [Benzerlik (Avg): 0.7165] Yerli alabalık doğu Kuzey Amerika'da, kuzeydoğu Kanada'dan ve doğu kıyısının aşağısında, birçok yüksek rakımlı akarsuda bulundukları Amerika Birleşik Devletleri'ndeki Georgia eyaletine kadar güneyde bulunabilir. Bu bölgelere özgü olmasına rağmen, dere alabalığı, popülasyonların kuluçkahaneler tarafından yönetildiği ve yerel balıkçılığa stoklandığı dünyanın geri kalanında da bulunabilir.\n",
      "  2. [Benzerlik (Avg): 0.6798] Güney Ontario'dan Kuzey Amerika, batıdan güneydoğuya Güney Dakota, güneyden Georgia'ya, kuzey Florida'dan ve güneybatıdan Teksas'ın merkezine.\n",
      "  3. [Benzerlik (Avg): 0.6344] Amazon ormanı Güney Amerika'da yer almaktadır. Brezilya, Peru, Kolombiya, Bolivya ve Ekvador'a yayılmıştır.\n",
      "  4. [Benzerlik (Avg): 0.6339] Üzüm yetiştiriciliği ilk olarak MÖ 4. yüzyılda Ermenistan ve Akdeniz'in doğu bölgelerinde başlamıştır. Kuru üzüm, üzümlerin sıcak çöl güneşinde kurutulmasıyla üretildi. Bağcılık ve kuru üzüm üretimi çok hızlı bir şekilde Fas ve Tunus da dahil olmak üzere Kuzey Afrika'ya yayıldı. Fenikeliler ve Mısırlılar, muhtemelen güneşte kurutma için mükemmel kurak ortam nedeniyle kuru üzüm üretimini popüler hale getirdiler. Onları saklamak için kavanozlara koydular ve binlerce farklı tapınaklara ayırdılar. Ekmeklere ve çeşitli hamur işlerine de katıyorlardı. Orta Doğu'dan, bu meyveler Yunanistan üzerinden İtalya'ya yayıldı ve burada diyetin önemli bir parçası haline geldi. Eski Romalılar, zeytin ve taze meyvelerin yanı sıra, ortak yemeklerinin önemli bir parçası olarak da dahil olmak üzere, toplumun her düzeyinde ve muhteşem miktarlarda kuru üzüm tükettiler. Kuru üzümlü ekmekler kahvaltıda yaygındı ve tahılları, fasulyeleri ve kültürlü sütleriyle birlikte tüketiliyordu. Kuru üzüm o kadar değerliydi ki, gıda dünyasını aştılar ve başarılı atletler için ödül ve aynı zamanda birinci sınıf takas para birimi haline geldiler.\n",
      "  5. [Benzerlik (Avg): 0.6325] 12.000'den fazla çim türü vardır. En yaygın olanı Kentucky Bluegrass'tır, çünkü hızlı, kolay büyür ve yumuşaktır. Rygrass parlak ve parlak yeşil renklidir. Çayırlar koyu yeşil ve parlaktır. Bermuda otu daha serttir ancak daha kuru toprakta büyüyebilir.\n",
      "\n",
      "Weighted Average Top-5 Cevaplar:\n",
      "  1. [Benzerlik (Weighted): 0.7008] Yerli alabalık doğu Kuzey Amerika'da, kuzeydoğu Kanada'dan ve doğu kıyısının aşağısında, birçok yüksek rakımlı akarsuda bulundukları Amerika Birleşik Devletleri'ndeki Georgia eyaletine kadar güneyde bulunabilir. Bu bölgelere özgü olmasına rağmen, dere alabalığı, popülasyonların kuluçkahaneler tarafından yönetildiği ve yerel balıkçılığa stoklandığı dünyanın geri kalanında da bulunabilir.\n",
      "  2. [Benzerlik (Weighted): 0.6677] Güney Ontario'dan Kuzey Amerika, batıdan güneydoğuya Güney Dakota, güneyden Georgia'ya, kuzey Florida'dan ve güneybatıdan Teksas'ın merkezine.\n",
      "  3. [Benzerlik (Weighted): 0.6155] 12.000'den fazla çim türü vardır. En yaygın olanı Kentucky Bluegrass'tır, çünkü hızlı, kolay büyür ve yumuşaktır. Rygrass parlak ve parlak yeşil renklidir. Çayırlar koyu yeşil ve parlaktır. Bermuda otu daha serttir ancak daha kuru toprakta büyüyebilir.\n",
      "  4. [Benzerlik (Weighted): 0.6132] Saguaro kaktüsü (Saguaro Cacti), yalnızca güney Arizona'nın bir parçası olduğu Sonoran Çölü'nde yetişen çok nadir bir kaktüs türüdür. Saguaro, sadece bir kolunu büyütmek için yaklaşık 50-75 yıl sürdüğü için birkaç yüz yıl rahatlıkla yaşayabilir. Arizona'daki yeni inşaat nedeniyle, bir binanın konumuna müdahale eden bir Saguaro nakledilmeli ve yok edilemez. Bir Saguaro kaktüsünün yok edilmesi 4. sınıf bir suçtur.\n",
      "  5. [Benzerlik (Weighted): 0.6105] Amazon ormanı Güney Amerika'da yer almaktadır. Brezilya, Peru, Kolombiya, Bolivya ve Ekvador'a yayılmıştır.\n"
     ]
    }
   ],
   "source": [
    "# Örnek soru indeksi\n",
    "example_question_index = 0  # İlk soru (istediğiniz indeksi burada değiştirebilirsiniz)\n",
    "\n",
    "# Gerçek soruyu ve cevabı kontrol et\n",
    "example_question = df_sample.iloc[example_question_index]['soru']\n",
    "correct_answer = df_sample.iloc[example_question_index]['cevap']\n",
    "\n",
    "print(f\"Örnek Soru: {example_question}\")\n",
    "print(f\"Gerçek Cevap: {correct_answer}\\n\")\n",
    "\n",
    "# Her modelin Top-5 adaylarını ve cosine similarity skorlarını sakla\n",
    "all_similarities = []\n",
    "all_top5_candidates = []\n",
    "\n",
    "for model_name in model_files:\n",
    "  similarity_matrix = cosine_similarity_data[model_name]\n",
    "  row = similarity_matrix[example_question_index]  # Örnek sorunun tüm cevaplarla benzerlik skorları\n",
    "  sorted_indices = np.argsort(row)[::-1]  # Skorları büyükten küçüğe sırala\n",
    "\n",
    "  # Top-5 adayları ve skorları\n",
    "  all_top5_candidates.append(sorted_indices[:5])\n",
    "  all_similarities.append(row)\n",
    "\n",
    "# Ensemble 1: Majority Voting (Top-1 ve Top-5)\n",
    "flattened_top5 = [idx for sublist in all_top5_candidates for idx in sublist]\n",
    "most_common = Counter(flattened_top5).most_common(1)[0][0]  # En sık geçen cevap\n",
    "ensemble_majority_voting = df_sample.iloc[most_common]['cevap']\n",
    "majority_top5 = [item[0] for item in Counter(flattened_top5).most_common(5)]\n",
    "\n",
    "# Ensemble 2: Average Cosine Similarity (Top-1 ve Top-5)\n",
    "avg_scores = np.mean(all_similarities, axis=0)\n",
    "avg_sorted_indices = np.argsort(avg_scores)[::-1]\n",
    "ensemble_avg_cosine = df_sample.iloc[avg_sorted_indices[0]]['cevap']\n",
    "average_top5 = avg_sorted_indices[:5]\n",
    "\n",
    "# Ensemble 3: Weighted Average (Top-1 ve Top-5)\n",
    "weighted_scores = sum(\n",
    "    model_weights[model_name] * all_similarities[i] for i, model_name in enumerate(model_files)\n",
    ")\n",
    "weighted_sorted_indices = np.argsort(weighted_scores)[::-1]\n",
    "ensemble_weighted_avg = df_sample.iloc[weighted_sorted_indices[0]]['cevap']\n",
    "weighted_top5 = weighted_sorted_indices[:5]\n",
    "\n",
    "# Sonuçları yazdır\n",
    "print(\"Ensemble Yöntemlerinin Top-1 Cevapları:\")\n",
    "print(\"\\nMajority Voting Cevabı:\")\n",
    "print(f\"  [Frekans: {Counter(flattened_top5)[most_common]}] {ensemble_majority_voting}\")\n",
    "\n",
    "print(\"\\nAverage Cosine Similarity Cevabı:\")\n",
    "print(f\"  [Benzerlik (Avg): {avg_scores[avg_sorted_indices[0]]:.4f}] {ensemble_avg_cosine}\")\n",
    "\n",
    "print(\"\\nWeighted Average Cevabı:\")\n",
    "print(f\"  [Benzerlik (Weighted): {weighted_scores[weighted_sorted_indices[0]]:.4f}] {ensemble_weighted_avg}\\n\")\n",
    "\n",
    "print(\"Ensemble Yöntemlerinin Top-5 Cevapları ve Skorları:\")\n",
    "\n",
    "# Majority Voting\n",
    "print(\"\\nMajority Voting Top-5 Cevaplar:\")\n",
    "for rank, idx in enumerate(majority_top5, 1):\n",
    "    print(f\"  {rank}. [Frekans: {Counter(flattened_top5)[idx]}] {df_sample.iloc[idx]['cevap']}\")\n",
    "\n",
    "# Average Cosine Similarity\n",
    "print(\"\\nAverage Cosine Top-5 Cevaplar:\")\n",
    "for rank, idx in enumerate(average_top5, 1):\n",
    "    print(f\"  {rank}. [Benzerlik (Avg): {avg_scores[idx]:.4f}] {df_sample.iloc[idx]['cevap']}\")\n",
    "\n",
    "# Weighted Average\n",
    "print(\"\\nWeighted Average Top-5 Cevaplar:\")\n",
    "for rank, idx in enumerate(weighted_top5, 1):\n",
    "    print(f\"  {rank}. [Benzerlik (Weighted): {weighted_scores[idx]:.4f}] {df_sample.iloc[idx]['cevap']}\")"
   ]
  },
  {
   "cell_type": "markdown",
   "id": "mYKzxsRTQzg7",
   "metadata": {
    "id": "mYKzxsRTQzg7"
   },
   "source": [
    "#### Graph: Compare All Embedding Models vs. Ensemble Models Accuracy"
   ]
  },
  {
   "cell_type": "code",
   "execution_count": 14,
   "id": "Na1SBhzBuZDz",
   "metadata": {
    "colab": {
     "base_uri": "https://localhost:8080/",
     "height": 707
    },
    "executionInfo": {
     "elapsed": 480,
     "status": "ok",
     "timestamp": 1734516430521,
     "user": {
      "displayName": "Ahmed Ugur",
      "userId": "07278114889288036484"
     },
     "user_tz": -180
    },
    "id": "Na1SBhzBuZDz",
    "outputId": "7ad0d27c-0dbf-4a23-a371-c2e83db00103"
   },
   "outputs": [
    {
     "data": {
      "image/png": "[encoded data removed]",
      "text/plain": [
       "<Figure size 1200x700 with 1 Axes>"
      ]
     },
     "metadata": {},
     "output_type": "display_data"
    }
   ],
   "source": [
    "from matplotlib.patches import Patch\n",
    "\n",
    "# Tekil modellerin başarıları\n",
    "model_names = [model_name_mapping[model] for model in model_files]\n",
    "top1_accuracies = [model_results[model][\"Top-1 Accuracy\"] for model in model_files]\n",
    "top5_accuracies = [model_results[model][\"Top-5 Accuracy\"] for model in model_files]\n",
    "\n",
    "# Ensemble yöntemlerinin başarıları\n",
    "ensemble_methods = list(ensemble_results.keys())\n",
    "ensemble_top1 = [ensemble_results[method][\"Top-1 Accuracy\"] for method in ensemble_methods]\n",
    "ensemble_top5 = [ensemble_results[method][\"Top-5 Accuracy\"] for method in ensemble_methods]\n",
    "\n",
    "# Verileri birleştirme işlemi\n",
    "x_labels = model_names + ensemble_methods\n",
    "top1_combined = top1_accuracies + ensemble_top1\n",
    "top5_combined = top5_accuracies + ensemble_top5\n",
    "\n",
    "x = np.arange(len(x_labels))\n",
    "\n",
    "bar_width = 0.4\n",
    "\n",
    "colors_top1 = ['lightblue'] * len(model_names) + ['orange'] * len(ensemble_methods)\n",
    "colors_top5 = ['steelblue'] * len(model_names) + ['red'] * len(ensemble_methods)\n",
    "\n",
    "plt.figure(figsize=(12, 7))\n",
    "\n",
    "bars1 = plt.bar(x - bar_width / 2, top1_combined, bar_width, label=\"Top-1 Accuracy\", color=colors_top1)\n",
    "\n",
    "bars2 = plt.bar(x + bar_width / 2, top5_combined, bar_width, label=\"Top-5 Accuracy\", color=colors_top5)\n",
    "\n",
    "# Barların üzerinde değerlerin gösterimi\n",
    "for bar in bars1:\n",
    "    plt.text(bar.get_x() + bar.get_width() / 2, bar.get_height() + 0.02, f\"{bar.get_height():.2f}\", ha='center', fontsize=9)\n",
    "for bar in bars2:\n",
    "    plt.text(bar.get_x() + bar.get_width() / 2, bar.get_height() + 0.02, f\"{bar.get_height():.2f}\", ha='center', fontsize=9)\n",
    "\n",
    "plt.xticks(x, x_labels, rotation=45, ha=\"right\")\n",
    "plt.yticks(np.arange(0.0, 1.1, 0.1))\n",
    "plt.ylabel(\"Accuracy\")\n",
    "plt.title(\"Tekil Öğreniciler ile Ensemble Performansları Karşılaştırması\")\n",
    "plt.ylim(0, 1)\n",
    "\n",
    "legend_elements = [\n",
    "    Patch(facecolor='lightblue', label=\"Top-1 (Tekil)\"),\n",
    "    Patch(facecolor='steelblue', label=\"Top-5 (Tekil)\"),\n",
    "    Patch(facecolor='orange', label=\"Top-1 (Ensemble)\"),\n",
    "    Patch(facecolor='red', label=\"Top-5 (Ensemble)\")\n",
    "]\n",
    "\n",
    "# Legend'i ekle\n",
    "plt.legend(handles=legend_elements, loc=\"upper left\", bbox_to_anchor=(1, 1))\n",
    "\n",
    "plt.tight_layout()\n",
    "plt.show()"
   ]
  },
  {
   "cell_type": "code",
   "execution_count": null,
   "id": "3XbbIp7gO8nt",
   "metadata": {
    "id": "3XbbIp7gO8nt"
   },
   "outputs": [],
   "source": []
  },
  {
   "cell_type": "code",
   "execution_count": null,
   "id": "85896007-c77f-4041-928c-0ff2558da0a3",
   "metadata": {},
   "outputs": [],
   "source": []
  }
 ],
 "metadata": {
  "colab": {
   "machine_shape": "hm",
   "provenance": [
    {
     "file_id": "17JQGbnAsNhm1JGRYlXy8appsowz1l-xe",
     "timestamp": 1734460667854
    },
    {
     "file_id": "1z4o46gVUTVtcUcsJ7oXucSDU93uF5g-R",
     "timestamp": 1733142110847
    }
   ]
  },
  "kernelspec": {
   "display_name": "Python 3 (ipykernel)",
   "language": "python",
   "name": "python3"
  },
  "language_info": {
   "codemirror_mode": {
    "name": "ipython",
    "version": 3
   },
   "file_extension": ".py",
   "mimetype": "text/x-python",
   "name": "python",
   "nbconvert_exporter": "python",
   "pygments_lexer": "ipython3",
   "version": "3.12.7"
  }
 },
 "nbformat": 4,
 "nbformat_minor": 5
}
